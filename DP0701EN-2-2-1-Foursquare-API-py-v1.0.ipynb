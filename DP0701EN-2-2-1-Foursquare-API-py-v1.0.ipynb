{
 "cells": [
  {
   "cell_type": "markdown",
   "metadata": {
    "button": false,
    "deletable": true,
    "new_sheet": false,
    "run_control": {
     "read_only": false
    }
   },
   "source": [
    "<a href=\"https://cognitiveclass.ai\"><img src = \"https://ibm.box.com/shared/static/9gegpsmnsoo25ikkbl4qzlvlyjbgxs5x.png\" width = 400> </a>\n",
    "\n",
    "<h1 align=center><font size = 5>Learning FourSquare API with Python</font></h1>"
   ]
  },
  {
   "cell_type": "markdown",
   "metadata": {
    "button": false,
    "deletable": true,
    "new_sheet": false,
    "run_control": {
     "read_only": false
    }
   },
   "source": [
    "   "
   ]
  },
  {
   "cell_type": "markdown",
   "metadata": {
    "button": false,
    "deletable": true,
    "new_sheet": false,
    "run_control": {
     "read_only": false
    }
   },
   "source": [
    "## Introduction\n",
    "\n",
    "In this lab, you will learn in details how to make calls to the Foursquare API for different purposes. You will learn how to construct a URL to send a request to the API to search for a specific type of venues, to explore a particular venue, to explore a Foursquare user, to explore a geographical location, and to get trending venues around a location. Also, you will learn how to use the visualization library, Folium, to visualize the results."
   ]
  },
  {
   "cell_type": "markdown",
   "metadata": {
    "button": false,
    "deletable": true,
    "new_sheet": false,
    "run_control": {
     "read_only": false
    }
   },
   "source": [
    "## Table of Contents\n",
    "\n",
    "1. <a href=\"#item1\">Foursquare API Search Function</a>\n",
    "2. <a href=\"#item2\">Explore a Given Venue</a>  \n",
    "3. <a href=\"#item3\">Explore a User</a>  \n",
    "4. <a href=\"#item4\">Foursquare API Explore Function</a>  \n",
    "5. <a href=\"#item5\">Get Trending Venues</a>  "
   ]
  },
  {
   "cell_type": "markdown",
   "metadata": {
    "button": false,
    "deletable": true,
    "new_sheet": false,
    "run_control": {
     "read_only": false
    }
   },
   "source": [
    "### Import necessary Libraries"
   ]
  },
  {
   "cell_type": "code",
   "execution_count": 3,
   "metadata": {
    "button": false,
    "collapsed": false,
    "deletable": true,
    "jupyter": {
     "outputs_hidden": false
    },
    "new_sheet": false,
    "run_control": {
     "read_only": false
    }
   },
   "outputs": [
    {
     "name": "stdout",
     "output_type": "stream",
     "text": [
      "Collecting package metadata (current_repodata.json): ...working... done\n",
      "Solving environment: ...working... done\n",
      "\n",
      "# All requested packages already installed.\n",
      "\n",
      "Folium installed\n",
      "Libraries imported.\n"
     ]
    }
   ],
   "source": [
    "import requests # library to handle requests\n",
    "import pandas as pd # library for data analsysis\n",
    "import numpy as np # library to handle data in a vectorized manner\n",
    "import random # library for random number generation\n",
    "\n",
    "!conda install -c conda-forge geopy --yes \n",
    "from geopy.geocoders import Nominatim # module to convert an address into latitude and longitude values\n",
    "\n",
    "# libraries for displaying images\n",
    "from IPython.display import Image \n",
    "from IPython.core.display import HTML \n",
    "    \n",
    "# tranforming json file into a pandas dataframe library\n",
    "from pandas.io.json import json_normalize\n",
    "\n",
    "#!conda install -c conda-forge folium=0.5.0 --yes\n",
    "import folium # plotting library\n",
    "\n",
    "print('Folium installed')\n",
    "print('Libraries imported.')"
   ]
  },
  {
   "cell_type": "markdown",
   "metadata": {
    "button": false,
    "deletable": true,
    "new_sheet": false,
    "run_control": {
     "read_only": false
    }
   },
   "source": [
    "### Define Foursquare Credentials and Version"
   ]
  },
  {
   "cell_type": "markdown",
   "metadata": {
    "button": false,
    "deletable": true,
    "new_sheet": false,
    "run_control": {
     "read_only": false
    }
   },
   "source": [
    "##### Make sure that you have created a Foursquare developer account and have your credentials handy"
   ]
  },
  {
   "cell_type": "code",
   "execution_count": 1,
   "metadata": {
    "button": false,
    "collapsed": false,
    "deletable": true,
    "jupyter": {
     "outputs_hidden": false
    },
    "new_sheet": false,
    "run_control": {
     "read_only": false
    }
   },
   "outputs": [
    {
     "name": "stdout",
     "output_type": "stream",
     "text": [
      "Your credentails:\n",
      "CLIENT_ID: VTLL41IJT01LOJ3WO5WYD5KTDBCCPTRNO53PFQ1O1WXIOWEN\n",
      "CLIENT_SECRET:RK02SWLA1P4RODIKLQ5CE432I2EKLERWQTML2KBKEPXXYCY4\n"
     ]
    }
   ],
   "source": [
    "CLIENT_ID = 'VTLL41IJT01LOJ3WO5WYD5KTDBCCPTRNO53PFQ1O1WXIOWEN' # your Foursquare ID\n",
    "CLIENT_SECRET = 'RK02SWLA1P4RODIKLQ5CE432I2EKLERWQTML2KBKEPXXYCY4' # your Foursquare Secret\n",
    "VERSION = '20180604'\n",
    "LIMIT = 30\n",
    "print('Your credentails:')\n",
    "print('CLIENT_ID: ' + CLIENT_ID)\n",
    "print('CLIENT_SECRET:' + CLIENT_SECRET)"
   ]
  },
  {
   "cell_type": "markdown",
   "metadata": {
    "button": false,
    "deletable": true,
    "new_sheet": false,
    "run_control": {
     "read_only": false
    }
   },
   "source": [
    "  "
   ]
  },
  {
   "cell_type": "markdown",
   "metadata": {
    "button": false,
    "deletable": true,
    "new_sheet": false,
    "run_control": {
     "read_only": false
    }
   },
   "source": [
    "#### Let's again assume that you are staying at the Conrad hotel. So let's start by converting the Contrad Hotel's address to its latitude and longitude coordinates."
   ]
  },
  {
   "cell_type": "markdown",
   "metadata": {},
   "source": [
    "In order to define an instance of the geocoder, we need to define a user_agent. We will name our agent <em>foursquare_agent</em>, as shown below."
   ]
  },
  {
   "cell_type": "code",
   "execution_count": 4,
   "metadata": {
    "button": false,
    "collapsed": false,
    "deletable": true,
    "jupyter": {
     "outputs_hidden": false
    },
    "new_sheet": false,
    "run_control": {
     "read_only": false
    }
   },
   "outputs": [
    {
     "name": "stdout",
     "output_type": "stream",
     "text": [
      "40.7151482 -74.0156573\n"
     ]
    }
   ],
   "source": [
    "address = '102 North End Ave, New York, NY'\n",
    "\n",
    "geolocator = Nominatim(user_agent=\"foursquare_agent\")\n",
    "location = geolocator.geocode(address)\n",
    "latitude = location.latitude\n",
    "longitude = location.longitude\n",
    "print(latitude, longitude)"
   ]
  },
  {
   "cell_type": "markdown",
   "metadata": {
    "button": false,
    "deletable": true,
    "new_sheet": false,
    "run_control": {
     "read_only": false
    }
   },
   "source": [
    "   "
   ]
  },
  {
   "cell_type": "markdown",
   "metadata": {
    "button": false,
    "deletable": true,
    "new_sheet": false,
    "run_control": {
     "read_only": false
    }
   },
   "source": [
    "<a id=\"item1\"></a>"
   ]
  },
  {
   "cell_type": "markdown",
   "metadata": {
    "button": false,
    "deletable": true,
    "new_sheet": false,
    "run_control": {
     "read_only": false
    }
   },
   "source": [
    "## 1. Search for a specific venue category\n",
    "> `https://api.foursquare.com/v2/venues/`**search**`?client_id=`**CLIENT_ID**`&client_secret=`**CLIENT_SECRET**`&ll=`**LATITUDE**`,`**LONGITUDE**`&v=`**VERSION**`&query=`**QUERY**`&radius=`**RADIUS**`&limit=`**LIMIT**"
   ]
  },
  {
   "cell_type": "markdown",
   "metadata": {
    "button": false,
    "deletable": true,
    "new_sheet": false,
    "run_control": {
     "read_only": false
    }
   },
   "source": [
    "#### Now, let's assume that it is lunch time, and you are craving Italian food. So, let's define a query to search for Italian food that is within 500 metres from the Conrad Hotel. "
   ]
  },
  {
   "cell_type": "code",
   "execution_count": 5,
   "metadata": {
    "button": false,
    "collapsed": false,
    "deletable": true,
    "jupyter": {
     "outputs_hidden": false
    },
    "new_sheet": false,
    "run_control": {
     "read_only": false
    },
    "scrolled": true
   },
   "outputs": [
    {
     "name": "stdout",
     "output_type": "stream",
     "text": [
      "Italian .... OK!\n"
     ]
    }
   ],
   "source": [
    "search_query = 'Italian'\n",
    "radius = 500\n",
    "print(search_query + ' .... OK!')"
   ]
  },
  {
   "cell_type": "markdown",
   "metadata": {
    "button": false,
    "deletable": true,
    "new_sheet": false,
    "run_control": {
     "read_only": false
    }
   },
   "source": [
    "#### Define the corresponding URL"
   ]
  },
  {
   "cell_type": "code",
   "execution_count": 46,
   "metadata": {
    "button": false,
    "collapsed": false,
    "deletable": true,
    "jupyter": {
     "outputs_hidden": false
    },
    "new_sheet": false,
    "run_control": {
     "read_only": false
    }
   },
   "outputs": [
    {
     "data": {
      "text/plain": [
       "'https://api.foursquare.com/v2/venues/search?client_id=VTLL41IJT01LOJ3WO5WYD5KTDBCCPTRNO53PFQ1O1WXIOWEN&client_secret=RK02SWLA1P4RODIKLQ5CE432I2EKLERWQTML2KBKEPXXYCY4&ll=40.7151482,-74.0156573&v=20180604&query=Italian&radius=500&limit=30'"
      ]
     },
     "execution_count": 46,
     "metadata": {},
     "output_type": "execute_result"
    }
   ],
   "source": [
    "url = 'https://api.foursquare.com/v2/venues/search?client_id={}&client_secret={}&ll={},{}&v={}&query={}&radius={}&limit={}'.format(CLIENT_ID, CLIENT_SECRET, latitude, longitude, VERSION, search_query, radius, LIMIT)\n",
    "url"
   ]
  },
  {
   "cell_type": "markdown",
   "metadata": {
    "button": false,
    "deletable": true,
    "new_sheet": false,
    "run_control": {
     "read_only": false
    }
   },
   "source": [
    "#### Send the GET Request and examine the results"
   ]
  },
  {
   "cell_type": "code",
   "execution_count": 47,
   "metadata": {
    "button": false,
    "collapsed": false,
    "deletable": true,
    "jupyter": {
     "outputs_hidden": false
    },
    "new_sheet": false,
    "run_control": {
     "read_only": false
    },
    "scrolled": true
   },
   "outputs": [
    {
     "name": "stdout",
     "output_type": "stream",
     "text": [
      "{'meta': {'code': 200, 'requestId': '5edf3e611d67cb00288b03a2'}, 'response': {'venues': [{'id': '4fa862b3e4b0ebff2f749f06', 'name': \"Harry's Italian Pizza Bar\", 'location': {'address': '225 Murray St', 'lat': 40.71521779064671, 'lng': -74.01473940209351, 'labeledLatLngs': [{'label': 'display', 'lat': 40.71521779064671, 'lng': -74.01473940209351}, {'label': 'entrance', 'lat': 40.715361, 'lng': -74.014975}], 'distance': 77, 'postalCode': '10282', 'cc': 'US', 'city': 'New York', 'state': 'NY', 'country': 'United States', 'formattedAddress': ['225 Murray St', 'New York, NY 10282', 'United States']}, 'categories': [{'id': '4bf58dd8d48988d1ca941735', 'name': 'Pizza Place', 'pluralName': 'Pizza Places', 'shortName': 'Pizza', 'icon': {'prefix': 'https://ss3.4sqi.net/img/categories_v2/food/pizza_', 'suffix': '.png'}, 'primary': True}], 'referralId': 'v-1591689159', 'hasPerk': False}, {'id': '4f3232e219836c91c7bfde94', 'name': 'Conca Cucina Italian Restaurant', 'location': {'address': '63 W Broadway', 'lat': 40.714484000000006, 'lng': -74.00980600000001, 'labeledLatLngs': [{'label': 'display', 'lat': 40.714484000000006, 'lng': -74.00980600000001}], 'distance': 499, 'postalCode': '10007', 'cc': 'US', 'city': 'New York', 'state': 'NY', 'country': 'United States', 'formattedAddress': ['63 W Broadway', 'New York, NY 10007', 'United States']}, 'categories': [{'id': '4d4b7105d754a06374d81259', 'name': 'Food', 'pluralName': 'Food', 'shortName': 'Food', 'icon': {'prefix': 'https://ss3.4sqi.net/img/categories_v2/food/default_', 'suffix': '.png'}, 'primary': True}], 'referralId': 'v-1591689159', 'hasPerk': False}]}}\n"
     ]
    }
   ],
   "source": [
    "results = requests.get(url).json()\n",
    "print(results)\n"
   ]
  },
  {
   "cell_type": "markdown",
   "metadata": {
    "button": false,
    "deletable": true,
    "new_sheet": false,
    "run_control": {
     "read_only": false
    }
   },
   "source": [
    "#### Get relevant part of JSON and transform it into a *pandas* dataframe"
   ]
  },
  {
   "cell_type": "code",
   "execution_count": 48,
   "metadata": {
    "button": false,
    "collapsed": false,
    "deletable": true,
    "jupyter": {
     "outputs_hidden": false
    },
    "new_sheet": false,
    "run_control": {
     "read_only": false
    }
   },
   "outputs": [
    {
     "data": {
      "text/html": [
       "<div>\n",
       "<style scoped>\n",
       "    .dataframe tbody tr th:only-of-type {\n",
       "        vertical-align: middle;\n",
       "    }\n",
       "\n",
       "    .dataframe tbody tr th {\n",
       "        vertical-align: top;\n",
       "    }\n",
       "\n",
       "    .dataframe thead th {\n",
       "        text-align: right;\n",
       "    }\n",
       "</style>\n",
       "<table border=\"1\" class=\"dataframe\">\n",
       "  <thead>\n",
       "    <tr style=\"text-align: right;\">\n",
       "      <th></th>\n",
       "      <th>id</th>\n",
       "      <th>name</th>\n",
       "      <th>categories</th>\n",
       "      <th>referralId</th>\n",
       "      <th>hasPerk</th>\n",
       "      <th>location.address</th>\n",
       "      <th>location.lat</th>\n",
       "      <th>location.lng</th>\n",
       "      <th>location.labeledLatLngs</th>\n",
       "      <th>location.distance</th>\n",
       "      <th>location.postalCode</th>\n",
       "      <th>location.cc</th>\n",
       "      <th>location.city</th>\n",
       "      <th>location.state</th>\n",
       "      <th>location.country</th>\n",
       "      <th>location.formattedAddress</th>\n",
       "    </tr>\n",
       "  </thead>\n",
       "  <tbody>\n",
       "    <tr>\n",
       "      <th>0</th>\n",
       "      <td>4fa862b3e4b0ebff2f749f06</td>\n",
       "      <td>Harry's Italian Pizza Bar</td>\n",
       "      <td>[{'id': '4bf58dd8d48988d1ca941735', 'name': 'Pizza Place', 'pluralName': 'Pizza Places', 'shortName': 'Pizza', 'icon': {'prefix': 'https://ss3.4sqi.net/img/categories_v2/food/pizza_', 'suffix': '.png'}, 'primary': True}]</td>\n",
       "      <td>v-1591689159</td>\n",
       "      <td>False</td>\n",
       "      <td>225 Murray St</td>\n",
       "      <td>40.715218</td>\n",
       "      <td>-74.014739</td>\n",
       "      <td>[{'label': 'display', 'lat': 40.71521779064671, 'lng': -74.01473940209351}, {'label': 'entrance', 'lat': 40.715361, 'lng': -74.014975}]</td>\n",
       "      <td>77</td>\n",
       "      <td>10282</td>\n",
       "      <td>US</td>\n",
       "      <td>New York</td>\n",
       "      <td>NY</td>\n",
       "      <td>United States</td>\n",
       "      <td>[225 Murray St, New York, NY 10282, United States]</td>\n",
       "    </tr>\n",
       "    <tr>\n",
       "      <th>1</th>\n",
       "      <td>4f3232e219836c91c7bfde94</td>\n",
       "      <td>Conca Cucina Italian Restaurant</td>\n",
       "      <td>[{'id': '4d4b7105d754a06374d81259', 'name': 'Food', 'pluralName': 'Food', 'shortName': 'Food', 'icon': {'prefix': 'https://ss3.4sqi.net/img/categories_v2/food/default_', 'suffix': '.png'}, 'primary': True}]</td>\n",
       "      <td>v-1591689159</td>\n",
       "      <td>False</td>\n",
       "      <td>63 W Broadway</td>\n",
       "      <td>40.714484</td>\n",
       "      <td>-74.009806</td>\n",
       "      <td>[{'label': 'display', 'lat': 40.714484000000006, 'lng': -74.00980600000001}]</td>\n",
       "      <td>499</td>\n",
       "      <td>10007</td>\n",
       "      <td>US</td>\n",
       "      <td>New York</td>\n",
       "      <td>NY</td>\n",
       "      <td>United States</td>\n",
       "      <td>[63 W Broadway, New York, NY 10007, United States]</td>\n",
       "    </tr>\n",
       "  </tbody>\n",
       "</table>\n",
       "</div>"
      ],
      "text/plain": [
       "                         id                             name  \\\n",
       "0  4fa862b3e4b0ebff2f749f06        Harry's Italian Pizza Bar   \n",
       "1  4f3232e219836c91c7bfde94  Conca Cucina Italian Restaurant   \n",
       "\n",
       "                                                                                                                                                                                                                     categories  \\\n",
       "0  [{'id': '4bf58dd8d48988d1ca941735', 'name': 'Pizza Place', 'pluralName': 'Pizza Places', 'shortName': 'Pizza', 'icon': {'prefix': 'https://ss3.4sqi.net/img/categories_v2/food/pizza_', 'suffix': '.png'}, 'primary': True}]   \n",
       "1                [{'id': '4d4b7105d754a06374d81259', 'name': 'Food', 'pluralName': 'Food', 'shortName': 'Food', 'icon': {'prefix': 'https://ss3.4sqi.net/img/categories_v2/food/default_', 'suffix': '.png'}, 'primary': True}]   \n",
       "\n",
       "     referralId  hasPerk location.address  location.lat  location.lng  \\\n",
       "0  v-1591689159    False    225 Murray St     40.715218    -74.014739   \n",
       "1  v-1591689159    False    63 W Broadway     40.714484    -74.009806   \n",
       "\n",
       "                                                                                                                   location.labeledLatLngs  \\\n",
       "0  [{'label': 'display', 'lat': 40.71521779064671, 'lng': -74.01473940209351}, {'label': 'entrance', 'lat': 40.715361, 'lng': -74.014975}]   \n",
       "1                                                             [{'label': 'display', 'lat': 40.714484000000006, 'lng': -74.00980600000001}]   \n",
       "\n",
       "   location.distance location.postalCode location.cc location.city  \\\n",
       "0                 77               10282          US      New York   \n",
       "1                499               10007          US      New York   \n",
       "\n",
       "  location.state location.country  \\\n",
       "0             NY    United States   \n",
       "1             NY    United States   \n",
       "\n",
       "                            location.formattedAddress  \n",
       "0  [225 Murray St, New York, NY 10282, United States]  \n",
       "1  [63 W Broadway, New York, NY 10007, United States]  "
      ]
     },
     "execution_count": 48,
     "metadata": {},
     "output_type": "execute_result"
    }
   ],
   "source": [
    "# assign relevant part of JSON to venues\n",
    "venues = results['response']['venues']\n",
    "\n",
    "# tranform venues into a dataframe\n",
    "dataframe = pd.json_normalize(venues)\n",
    "dataframe.head(10)"
   ]
  },
  {
   "cell_type": "markdown",
   "metadata": {
    "button": false,
    "deletable": true,
    "new_sheet": false,
    "run_control": {
     "read_only": false
    }
   },
   "source": [
    "#### Define information of interest and filter dataframe"
   ]
  },
  {
   "cell_type": "code",
   "execution_count": 49,
   "metadata": {
    "button": false,
    "deletable": true,
    "new_sheet": false,
    "run_control": {
     "read_only": false
    },
    "scrolled": true
   },
   "outputs": [
    {
     "data": {
      "text/html": [
       "<div>\n",
       "<style scoped>\n",
       "    .dataframe tbody tr th:only-of-type {\n",
       "        vertical-align: middle;\n",
       "    }\n",
       "\n",
       "    .dataframe tbody tr th {\n",
       "        vertical-align: top;\n",
       "    }\n",
       "\n",
       "    .dataframe thead th {\n",
       "        text-align: right;\n",
       "    }\n",
       "</style>\n",
       "<table border=\"1\" class=\"dataframe\">\n",
       "  <thead>\n",
       "    <tr style=\"text-align: right;\">\n",
       "      <th></th>\n",
       "      <th>name</th>\n",
       "      <th>categories</th>\n",
       "      <th>address</th>\n",
       "      <th>lat</th>\n",
       "      <th>lng</th>\n",
       "      <th>labeledLatLngs</th>\n",
       "      <th>distance</th>\n",
       "      <th>postalCode</th>\n",
       "      <th>cc</th>\n",
       "      <th>city</th>\n",
       "      <th>state</th>\n",
       "      <th>country</th>\n",
       "      <th>formattedAddress</th>\n",
       "      <th>id</th>\n",
       "    </tr>\n",
       "  </thead>\n",
       "  <tbody>\n",
       "    <tr>\n",
       "      <th>0</th>\n",
       "      <td>Harry's Italian Pizza Bar</td>\n",
       "      <td>Pizza Place</td>\n",
       "      <td>225 Murray St</td>\n",
       "      <td>40.715218</td>\n",
       "      <td>-74.014739</td>\n",
       "      <td>[{'label': 'display', 'lat': 40.71521779064671, 'lng': -74.01473940209351}, {'label': 'entrance', 'lat': 40.715361, 'lng': -74.014975}]</td>\n",
       "      <td>77</td>\n",
       "      <td>10282</td>\n",
       "      <td>US</td>\n",
       "      <td>New York</td>\n",
       "      <td>NY</td>\n",
       "      <td>United States</td>\n",
       "      <td>[225 Murray St, New York, NY 10282, United States]</td>\n",
       "      <td>4fa862b3e4b0ebff2f749f06</td>\n",
       "    </tr>\n",
       "    <tr>\n",
       "      <th>1</th>\n",
       "      <td>Conca Cucina Italian Restaurant</td>\n",
       "      <td>Food</td>\n",
       "      <td>63 W Broadway</td>\n",
       "      <td>40.714484</td>\n",
       "      <td>-74.009806</td>\n",
       "      <td>[{'label': 'display', 'lat': 40.714484000000006, 'lng': -74.00980600000001}]</td>\n",
       "      <td>499</td>\n",
       "      <td>10007</td>\n",
       "      <td>US</td>\n",
       "      <td>New York</td>\n",
       "      <td>NY</td>\n",
       "      <td>United States</td>\n",
       "      <td>[63 W Broadway, New York, NY 10007, United States]</td>\n",
       "      <td>4f3232e219836c91c7bfde94</td>\n",
       "    </tr>\n",
       "  </tbody>\n",
       "</table>\n",
       "</div>"
      ],
      "text/plain": [
       "                              name   categories        address        lat  \\\n",
       "0        Harry's Italian Pizza Bar  Pizza Place  225 Murray St  40.715218   \n",
       "1  Conca Cucina Italian Restaurant         Food  63 W Broadway  40.714484   \n",
       "\n",
       "         lng  \\\n",
       "0 -74.014739   \n",
       "1 -74.009806   \n",
       "\n",
       "                                                                                                                            labeledLatLngs  \\\n",
       "0  [{'label': 'display', 'lat': 40.71521779064671, 'lng': -74.01473940209351}, {'label': 'entrance', 'lat': 40.715361, 'lng': -74.014975}]   \n",
       "1                                                             [{'label': 'display', 'lat': 40.714484000000006, 'lng': -74.00980600000001}]   \n",
       "\n",
       "   distance postalCode  cc      city state        country  \\\n",
       "0        77      10282  US  New York    NY  United States   \n",
       "1       499      10007  US  New York    NY  United States   \n",
       "\n",
       "                                     formattedAddress  \\\n",
       "0  [225 Murray St, New York, NY 10282, United States]   \n",
       "1  [63 W Broadway, New York, NY 10007, United States]   \n",
       "\n",
       "                         id  \n",
       "0  4fa862b3e4b0ebff2f749f06  \n",
       "1  4f3232e219836c91c7bfde94  "
      ]
     },
     "execution_count": 49,
     "metadata": {},
     "output_type": "execute_result"
    }
   ],
   "source": [
    "# keep only columns that include venue name, and anything that is associated with location\n",
    "filtered_columns = ['name', 'categories'] + [col for col in dataframe.columns if col.startswith('location.')] + ['id']\n",
    "dataframe_filtered = dataframe.loc[:, filtered_columns]\n",
    "\n",
    "# function that extracts the category of the venue\n",
    "def get_category_type(row):\n",
    "    try:\n",
    "        categories_list = row['categories']\n",
    "    except:\n",
    "        categories_list = row['venue.categories']\n",
    "        \n",
    "    if len(categories_list) == 0:\n",
    "        return None\n",
    "    else:\n",
    "        return categories_list[0]['name']\n",
    "\n",
    "# filter the category for each row\n",
    "dataframe_filtered['categories'] = dataframe_filtered.apply(get_category_type, axis=1)\n",
    "\n",
    "# clean column names by keeping only last term\n",
    "dataframe_filtered.columns = [column.split('.')[-1] for column in dataframe_filtered.columns]\n",
    "\n",
    "dataframe_filtered"
   ]
  },
  {
   "cell_type": "markdown",
   "metadata": {
    "button": false,
    "deletable": true,
    "new_sheet": false,
    "run_control": {
     "read_only": false
    }
   },
   "source": [
    "#### Let's visualize the Italian restaurants that are nearby"
   ]
  },
  {
   "cell_type": "code",
   "execution_count": 50,
   "metadata": {
    "button": false,
    "collapsed": false,
    "deletable": true,
    "jupyter": {
     "outputs_hidden": false
    },
    "new_sheet": false,
    "run_control": {
     "read_only": false
    }
   },
   "outputs": [
    {
     "data": {
      "text/plain": [
       "0          Harry's Italian Pizza Bar\n",
       "1    Conca Cucina Italian Restaurant\n",
       "Name: name, dtype: object"
      ]
     },
     "execution_count": 50,
     "metadata": {},
     "output_type": "execute_result"
    }
   ],
   "source": [
    "dataframe_filtered.name"
   ]
  },
  {
   "cell_type": "code",
   "execution_count": 52,
   "metadata": {},
   "outputs": [
    {
     "data": {
      "text/plain": [
       "[\"Harry's Italian Pizza Bar\", 'Conca Cucina Italian Restaurant']"
      ]
     },
     "execution_count": 52,
     "metadata": {},
     "output_type": "execute_result"
    }
   ],
   "source": [
    "list(dataframe_filtered['name'])\n"
   ]
  },
  {
   "cell_type": "code",
   "execution_count": 12,
   "metadata": {
    "button": false,
    "collapsed": false,
    "deletable": true,
    "jupyter": {
     "outputs_hidden": false
    },
    "new_sheet": false,
    "run_control": {
     "read_only": false
    }
   },
   "outputs": [
    {
     "data": {
      "text/html": [
       "<div style=\"width:100%;\"><div style=\"position:relative;width:100%;height:0;padding-bottom:60%;\"><iframe src=\"about:blank\" style=\"position:absolute;width:100%;height:100%;left:0;top:0;border:none !important;\" data-html=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 onload=\"this.contentDocument.open();this.contentDocument.write(atob(this.getAttribute('data-html')));this.contentDocument.close();\" allowfullscreen webkitallowfullscreen mozallowfullscreen></iframe></div></div>"
      ],
      "text/plain": [
       "<folium.folium.Map at 0x17005c8fb48>"
      ]
     },
     "execution_count": 12,
     "metadata": {},
     "output_type": "execute_result"
    }
   ],
   "source": [
    "venues_map = folium.Map(location=[latitude, longitude], zoom_start=13) # generate map centred around the Conrad Hotel\n",
    "\n",
    "# add a red circle marker to represent the Conrad Hotel\n",
    "folium.CircleMarker(\n",
    "    [latitude, longitude],\n",
    "    radius=10,\n",
    "    color='red',\n",
    "    popup='Conrad Hotel',\n",
    "    fill = True,\n",
    "    fill_color = 'red',\n",
    "    fill_opacity = 0.6\n",
    ").add_to(venues_map)\n",
    "\n",
    "# add the Italian restaurants as blue circle markers\n",
    "for lat, lng, label in zip(dataframe_filtered.lat, dataframe_filtered.lng, dataframe_filtered.categories):\n",
    "    folium.CircleMarker(\n",
    "        [lat, lng],\n",
    "        radius=5,\n",
    "        color='blue',\n",
    "        popup=label,\n",
    "        fill = True,\n",
    "        fill_color='blue',\n",
    "        fill_opacity=0.6\n",
    "    ).add_to(venues_map)\n",
    "\n",
    "# display map\n",
    "venues_map"
   ]
  },
  {
   "cell_type": "markdown",
   "metadata": {
    "button": false,
    "deletable": true,
    "new_sheet": false,
    "run_control": {
     "read_only": false
    }
   },
   "source": [
    "   "
   ]
  },
  {
   "cell_type": "markdown",
   "metadata": {
    "button": false,
    "deletable": true,
    "new_sheet": false,
    "run_control": {
     "read_only": false
    }
   },
   "source": [
    "<a id=\"item2\"></a>"
   ]
  },
  {
   "cell_type": "markdown",
   "metadata": {
    "button": false,
    "deletable": true,
    "new_sheet": false,
    "run_control": {
     "read_only": false
    }
   },
   "source": [
    "## 2. Explore a Given Venue\n",
    "> `https://api.foursquare.com/v2/venues/`**VENUE_ID**`?client_id=`**CLIENT_ID**`&client_secret=`**CLIENT_SECRET**`&v=`**VERSION**"
   ]
  },
  {
   "cell_type": "markdown",
   "metadata": {
    "button": false,
    "deletable": true,
    "new_sheet": false,
    "run_control": {
     "read_only": false
    }
   },
   "source": [
    "### A. Let's explore the closest Italian restaurant -- _Harry's Italian Pizza Bar_"
   ]
  },
  {
   "cell_type": "code",
   "execution_count": 54,
   "metadata": {
    "button": false,
    "collapsed": false,
    "deletable": true,
    "jupyter": {
     "outputs_hidden": false
    },
    "new_sheet": false,
    "run_control": {
     "read_only": false
    }
   },
   "outputs": [
    {
     "data": {
      "text/plain": [
       "'https://api.foursquare.com/v2/venues/4fa862b3e4b0ebff2f749f06?client_id=VTLL41IJT01LOJ3WO5WYD5KTDBCCPTRNO53PFQ1O1WXIOWEN&client_secret=RK02SWLA1P4RODIKLQ5CE432I2EKLERWQTML2KBKEPXXYCY4&v=20180604'"
      ]
     },
     "execution_count": 54,
     "metadata": {},
     "output_type": "execute_result"
    }
   ],
   "source": [
    "venue_id = '4fa862b3e4b0ebff2f749f06' # ID of Harry's Italian Pizza Bar\n",
    "url = 'https://api.foursquare.com/v2/venues/{}?client_id={}&client_secret={}&v={}'.format(venue_id, CLIENT_ID, CLIENT_SECRET, VERSION)\n",
    "url"
   ]
  },
  {
   "cell_type": "markdown",
   "metadata": {
    "button": false,
    "deletable": true,
    "new_sheet": false,
    "run_control": {
     "read_only": false
    }
   },
   "source": [
    "#### Send GET request for result"
   ]
  },
  {
   "cell_type": "code",
   "execution_count": 55,
   "metadata": {
    "button": false,
    "deletable": true,
    "new_sheet": false,
    "run_control": {
     "read_only": false
    }
   },
   "outputs": [
    {
     "data": {
      "text/plain": [
       "{'meta': {'code': 200, 'requestId': '5edf3f72211536001b3e4d0d'},\n",
       " 'response': {'venue': {'id': '4fa862b3e4b0ebff2f749f06',\n",
       "   'name': \"Harry's Italian Pizza Bar\",\n",
       "   'contact': {'phone': '2126081007', 'formattedPhone': '(212) 608-1007'},\n",
       "   'location': {'address': '225 Murray St',\n",
       "    'lat': 40.71521779064671,\n",
       "    'lng': -74.01473940209351,\n",
       "    'labeledLatLngs': [{'label': 'display',\n",
       "      'lat': 40.71521779064671,\n",
       "      'lng': -74.01473940209351},\n",
       "     {'label': 'entrance', 'lat': 40.715361, 'lng': -74.014975}],\n",
       "    'postalCode': '10282',\n",
       "    'cc': 'US',\n",
       "    'city': 'New York',\n",
       "    'state': 'NY',\n",
       "    'country': 'United States',\n",
       "    'formattedAddress': ['225 Murray St',\n",
       "     'New York, NY 10282',\n",
       "     'United States']},\n",
       "   'canonicalUrl': 'https://foursquare.com/v/harrys-italian-pizza-bar/4fa862b3e4b0ebff2f749f06',\n",
       "   'categories': [{'id': '4bf58dd8d48988d1ca941735',\n",
       "     'name': 'Pizza Place',\n",
       "     'pluralName': 'Pizza Places',\n",
       "     'shortName': 'Pizza',\n",
       "     'icon': {'prefix': 'https://ss3.4sqi.net/img/categories_v2/food/pizza_',\n",
       "      'suffix': '.png'},\n",
       "     'primary': True},\n",
       "    {'id': '4bf58dd8d48988d110941735',\n",
       "     'name': 'Italian Restaurant',\n",
       "     'pluralName': 'Italian Restaurants',\n",
       "     'shortName': 'Italian',\n",
       "     'icon': {'prefix': 'https://ss3.4sqi.net/img/categories_v2/food/italian_',\n",
       "      'suffix': '.png'}}],\n",
       "   'verified': False,\n",
       "   'stats': {'tipCount': 57},\n",
       "   'url': 'http://harrysitalian.com',\n",
       "   'price': {'tier': 2, 'message': 'Moderate', 'currency': '$'},\n",
       "   'hasMenu': True,\n",
       "   'likes': {'count': 120,\n",
       "    'groups': [{'type': 'others', 'count': 120, 'items': []}],\n",
       "    'summary': '120 Likes'},\n",
       "   'dislike': False,\n",
       "   'ok': False,\n",
       "   'rating': 6.4,\n",
       "   'ratingColor': 'FFC800',\n",
       "   'ratingSignals': 212,\n",
       "   'menu': {'type': 'Menu',\n",
       "    'label': 'Menu',\n",
       "    'anchor': 'View Menu',\n",
       "    'url': 'https://foursquare.com/v/harrys-italian-pizza-bar/4fa862b3e4b0ebff2f749f06/menu',\n",
       "    'mobileUrl': 'https://foursquare.com/v/4fa862b3e4b0ebff2f749f06/device_menu'},\n",
       "   'allowMenuUrlEdit': True,\n",
       "   'beenHere': {'count': 0,\n",
       "    'unconfirmedCount': 0,\n",
       "    'marked': False,\n",
       "    'lastCheckinExpiredAt': 0},\n",
       "   'specials': {'count': 0, 'items': []},\n",
       "   'photos': {'count': 146,\n",
       "    'groups': [{'type': 'venue',\n",
       "      'name': 'Venue photos',\n",
       "      'count': 146,\n",
       "      'items': [{'id': '4fad980de4b091b4626c3633',\n",
       "        'createdAt': 1336776717,\n",
       "        'source': {'name': 'Foursquare for Android',\n",
       "         'url': 'https://foursquare.com/download/#/android'},\n",
       "        'prefix': 'https://fastly.4sqi.net/img/general/',\n",
       "        'suffix': '/ya1iQFI7pLjuIJp1PGDKlrZS3OJdHCF7tpILMmjv_2w.jpg',\n",
       "        'width': 480,\n",
       "        'height': 640,\n",
       "        'user': {'id': '13676709',\n",
       "         'firstName': 'Leony',\n",
       "         'lastName': 'N',\n",
       "         'photo': {'prefix': 'https://fastly.4sqi.net/img/user/',\n",
       "          'suffix': '/T0ANFNGNMCHUDEUE.jpg'}},\n",
       "        'visibility': 'public'}]}]},\n",
       "   'reasons': {'count': 1,\n",
       "    'items': [{'summary': 'Lots of people like this place',\n",
       "      'type': 'general',\n",
       "      'reasonName': 'rawLikesReason'}]},\n",
       "   'hereNow': {'count': 0, 'summary': 'Nobody here', 'groups': []},\n",
       "   'createdAt': 1336435379,\n",
       "   'tips': {'count': 57,\n",
       "    'groups': [{'type': 'others',\n",
       "      'name': 'All tips',\n",
       "      'count': 57,\n",
       "      'items': [{'id': '53d27909498e0523841340b6',\n",
       "        'createdAt': 1406302473,\n",
       "        'text': \"Harry's Italian Pizza bar is known for it's amazing pizza, but did you know that the brunches here are amazing too? Try the Nutella French toast and we know you'll be sold.\",\n",
       "        'type': 'user',\n",
       "        'canonicalUrl': 'https://foursquare.com/item/53d27909498e0523841340b6',\n",
       "        'lang': 'en',\n",
       "        'likes': {'count': 4,\n",
       "         'groups': [{'type': 'others',\n",
       "           'count': 4,\n",
       "           'items': [{'id': '369426',\n",
       "             'firstName': 'P.',\n",
       "             'lastName': 'M',\n",
       "             'photo': {'prefix': 'https://fastly.4sqi.net/img/user/',\n",
       "              'suffix': '/JPQYUWJKUT0H2OO4.jpg'}},\n",
       "            {'id': '87587879',\n",
       "             'firstName': 'Diane',\n",
       "             'lastName': 'D',\n",
       "             'photo': {'prefix': 'https://fastly.4sqi.net/img/user/',\n",
       "              'suffix': '/87587879-ESLRSZLQ2CBE2P4W.jpg'}},\n",
       "            {'id': '87591341',\n",
       "             'firstName': 'Tim',\n",
       "             'lastName': 'S',\n",
       "             'photo': {'prefix': 'https://fastly.4sqi.net/img/user/',\n",
       "              'suffix': '/-Z4YK4VKE0JSVXIY1.jpg'}},\n",
       "            {'id': '87473404',\n",
       "             'firstName': 'TenantKing.com',\n",
       "             'photo': {'prefix': 'https://fastly.4sqi.net/img/user/',\n",
       "              'suffix': '/87473404-HI5DTBTK0HX401CA.png'},\n",
       "             'type': 'page'}]}],\n",
       "         'summary': '4 likes'},\n",
       "        'logView': True,\n",
       "        'agreeCount': 4,\n",
       "        'disagreeCount': 0,\n",
       "        'todo': {'count': 0},\n",
       "        'user': {'id': '87473404',\n",
       "         'firstName': 'TenantKing.com',\n",
       "         'photo': {'prefix': 'https://fastly.4sqi.net/img/user/',\n",
       "          'suffix': '/87473404-HI5DTBTK0HX401CA.png'},\n",
       "         'type': 'page'}}]}]},\n",
       "   'shortUrl': 'http://4sq.com/JNblHV',\n",
       "   'timeZone': 'America/New_York',\n",
       "   'listed': {'count': 54,\n",
       "    'groups': [{'type': 'others',\n",
       "      'name': 'Lists from other people',\n",
       "      'count': 54,\n",
       "      'items': [{'id': '4fa32fd0e4b04193744746b1',\n",
       "        'name': 'Manhattan Haunts',\n",
       "        'description': '',\n",
       "        'type': 'others',\n",
       "        'user': {'id': '24592223',\n",
       "         'firstName': 'Becca',\n",
       "         'lastName': 'M',\n",
       "         'photo': {'prefix': 'https://fastly.4sqi.net/img/user/',\n",
       "          'suffix': '/24592223-RAW2UYM0GIB1U40K.jpg'}},\n",
       "        'editable': False,\n",
       "        'public': True,\n",
       "        'collaborative': False,\n",
       "        'url': '/becca_mcarthur/list/manhattan-haunts',\n",
       "        'canonicalUrl': 'https://foursquare.com/becca_mcarthur/list/manhattan-haunts',\n",
       "        'createdAt': 1336094672,\n",
       "        'updatedAt': 1380845377,\n",
       "        'photo': {'id': '4e8cc9461081e3b3544e12e5',\n",
       "         'createdAt': 1317849414,\n",
       "         'prefix': 'https://fastly.4sqi.net/img/general/',\n",
       "         'suffix': '/0NLVU2HC1JF4DXIMKWUFW3QBUT31DC11EFNYYHMJG3NDWAPS.jpg',\n",
       "         'width': 492,\n",
       "         'height': 330,\n",
       "         'user': {'id': '742542',\n",
       "          'firstName': 'Time Out New York',\n",
       "          'photo': {'prefix': 'https://fastly.4sqi.net/img/user/',\n",
       "           'suffix': '/XXHKCBSQHBORZNSR.jpg'},\n",
       "          'type': 'page'},\n",
       "         'visibility': 'public'},\n",
       "        'followers': {'count': 22},\n",
       "        'listItems': {'count': 187,\n",
       "         'items': [{'id': 'v4fa862b3e4b0ebff2f749f06',\n",
       "           'createdAt': 1342934485}]}},\n",
       "       {'id': '4fae817be4b085f6b2a74d19',\n",
       "        'name': 'USA NYC MAN FiDi',\n",
       "        'description': 'Where to go for decent eats in the restaurant wasteland of Downtown NYC aka FiDi, along with Tribeca & Battery Park City.',\n",
       "        'type': 'others',\n",
       "        'user': {'id': '12113441',\n",
       "         'firstName': 'Kino',\n",
       "         'photo': {'prefix': 'https://fastly.4sqi.net/img/user/',\n",
       "          'suffix': '/12113441-K5HTHFLU2MUCM0CM.jpg'}},\n",
       "        'editable': False,\n",
       "        'public': True,\n",
       "        'collaborative': False,\n",
       "        'url': '/kinosfault/list/usa-nyc-man-fidi',\n",
       "        'canonicalUrl': 'https://foursquare.com/kinosfault/list/usa-nyc-man-fidi',\n",
       "        'createdAt': 1336836475,\n",
       "        'updatedAt': 1556754919,\n",
       "        'photo': {'id': '55984992498e13ba75e353bb',\n",
       "         'createdAt': 1436043666,\n",
       "         'prefix': 'https://fastly.4sqi.net/img/general/',\n",
       "         'suffix': '/12113441_iOa6Uh-Xi8bhj2-gpzkkw8MKiAIs7RmOcz_RM7m8ink.jpg',\n",
       "         'width': 540,\n",
       "         'height': 960,\n",
       "         'user': {'id': '12113441',\n",
       "          'firstName': 'Kino',\n",
       "          'photo': {'prefix': 'https://fastly.4sqi.net/img/user/',\n",
       "           'suffix': '/12113441-K5HTHFLU2MUCM0CM.jpg'}},\n",
       "         'visibility': 'public'},\n",
       "        'followers': {'count': 20},\n",
       "        'listItems': {'count': 273,\n",
       "         'items': [{'id': 'v4fa862b3e4b0ebff2f749f06',\n",
       "           'createdAt': 1373909433}]}},\n",
       "       {'id': '4fddeff0e4b0e078037ac0d3',\n",
       "        'name': 'NYC Resturants',\n",
       "        'description': '',\n",
       "        'type': 'others',\n",
       "        'user': {'id': '21563126',\n",
       "         'firstName': 'Richard',\n",
       "         'lastName': 'R',\n",
       "         'photo': {'prefix': 'https://fastly.4sqi.net/img/user/',\n",
       "          'suffix': '/21563126_v05J1KPw_SVj6Ehq9g8B9jeAGjFUMsU5QGl-NZ8inUQ7pKQm5bKplW37EmR7jS2A7GYPBBAtl.jpg'}},\n",
       "        'editable': False,\n",
       "        'public': True,\n",
       "        'collaborative': True,\n",
       "        'url': '/rickr7/list/nyc-resturants',\n",
       "        'canonicalUrl': 'https://foursquare.com/rickr7/list/nyc-resturants',\n",
       "        'createdAt': 1339944944,\n",
       "        'updatedAt': 1591664261,\n",
       "        'photo': {'id': '5072dd13e4b09145cdf782d1',\n",
       "         'createdAt': 1349704979,\n",
       "         'prefix': 'https://fastly.4sqi.net/img/general/',\n",
       "         'suffix': '/208205_fGh2OuAZ9qJ4agbAA5wMVNOSIm9kNUlRtNwj1N-adqg.jpg',\n",
       "         'width': 800,\n",
       "         'height': 800,\n",
       "         'user': {'id': '208205',\n",
       "          'firstName': 'Thalia',\n",
       "          'lastName': 'K',\n",
       "          'photo': {'prefix': 'https://fastly.4sqi.net/img/user/',\n",
       "           'suffix': '/SNOOLCAW2AG04ZKD.jpg'}},\n",
       "         'visibility': 'public'},\n",
       "        'followers': {'count': 12},\n",
       "        'listItems': {'count': 193,\n",
       "         'items': [{'id': 'v4fa862b3e4b0ebff2f749f06',\n",
       "           'createdAt': 1581655865}]}},\n",
       "       {'id': '5266c68a498e7c667807fe09',\n",
       "        'name': 'Foodie Love in NY - 02',\n",
       "        'description': '',\n",
       "        'type': 'others',\n",
       "        'user': {'id': '547977',\n",
       "         'firstName': 'WiLL',\n",
       "         'photo': {'prefix': 'https://fastly.4sqi.net/img/user/',\n",
       "          'suffix': '/-Q5NYGDMFDMOITQRR.jpg'}},\n",
       "        'editable': False,\n",
       "        'public': True,\n",
       "        'collaborative': False,\n",
       "        'url': '/sweetiewill/list/foodie-love-in-ny--02',\n",
       "        'canonicalUrl': 'https://foursquare.com/sweetiewill/list/foodie-love-in-ny--02',\n",
       "        'createdAt': 1382467210,\n",
       "        'updatedAt': 1391995585,\n",
       "        'followers': {'count': 7},\n",
       "        'listItems': {'count': 200,\n",
       "         'items': [{'id': 'v4fa862b3e4b0ebff2f749f06',\n",
       "           'createdAt': 1386809936}]}}]}]},\n",
       "   'hours': {'status': 'Closed until 11:30 AM',\n",
       "    'richStatus': {'entities': [], 'text': 'Closed until 11:30 AM'},\n",
       "    'isOpen': False,\n",
       "    'isLocalHoliday': False,\n",
       "    'dayData': [],\n",
       "    'timeframes': [{'days': 'Mon–Wed, Sun',\n",
       "      'includesToday': True,\n",
       "      'open': [{'renderedTime': '11:30 AM–11:00 PM'}],\n",
       "      'segments': []},\n",
       "     {'days': 'Thu–Sat',\n",
       "      'open': [{'renderedTime': '11:30 AM–Midnight'}],\n",
       "      'segments': []}]},\n",
       "   'popular': {'isOpen': False,\n",
       "    'isLocalHoliday': False,\n",
       "    'timeframes': [{'days': 'Today',\n",
       "      'includesToday': True,\n",
       "      'open': [{'renderedTime': 'Noon–2:00 PM'},\n",
       "       {'renderedTime': '5:00 PM–10:00 PM'}],\n",
       "      'segments': []},\n",
       "     {'days': 'Wed–Thu',\n",
       "      'open': [{'renderedTime': 'Noon–2:00 PM'},\n",
       "       {'renderedTime': '5:00 PM–10:00 PM'}],\n",
       "      'segments': []},\n",
       "     {'days': 'Fri',\n",
       "      'open': [{'renderedTime': 'Noon–3:00 PM'},\n",
       "       {'renderedTime': '5:00 PM–11:00 PM'}],\n",
       "      'segments': []},\n",
       "     {'days': 'Sat',\n",
       "      'open': [{'renderedTime': 'Noon–11:00 PM'}],\n",
       "      'segments': []},\n",
       "     {'days': 'Sun',\n",
       "      'open': [{'renderedTime': 'Noon–3:00 PM'},\n",
       "       {'renderedTime': '5:00 PM–8:00 PM'}],\n",
       "      'segments': []},\n",
       "     {'days': 'Mon',\n",
       "      'open': [{'renderedTime': 'Noon–2:00 PM'},\n",
       "       {'renderedTime': '6:00 PM–8:00 PM'}],\n",
       "      'segments': []}]},\n",
       "   'seasonalHours': [],\n",
       "   'defaultHours': {'status': 'Closed until 11:30 AM',\n",
       "    'richStatus': {'entities': [], 'text': 'Closed until 11:30 AM'},\n",
       "    'isOpen': False,\n",
       "    'isLocalHoliday': False,\n",
       "    'dayData': [],\n",
       "    'timeframes': [{'days': 'Mon–Wed, Sun',\n",
       "      'includesToday': True,\n",
       "      'open': [{'renderedTime': '11:30 AM–11:00 PM'}],\n",
       "      'segments': []},\n",
       "     {'days': 'Thu–Sat',\n",
       "      'open': [{'renderedTime': '11:30 AM–Midnight'}],\n",
       "      'segments': []}]},\n",
       "   'pageUpdates': {'count': 0, 'items': []},\n",
       "   'inbox': {'count': 0, 'items': []},\n",
       "   'attributes': {'groups': [{'type': 'price',\n",
       "      'name': 'Price',\n",
       "      'summary': '$$',\n",
       "      'count': 1,\n",
       "      'items': [{'displayName': 'Price',\n",
       "        'displayValue': '$$',\n",
       "        'priceTier': 2}]},\n",
       "     {'type': 'payments',\n",
       "      'name': 'Credit Cards',\n",
       "      'summary': 'Credit Cards',\n",
       "      'count': 7,\n",
       "      'items': [{'displayName': 'Credit Cards',\n",
       "        'displayValue': 'Yes (incl. American Express)'}]},\n",
       "     {'type': 'outdoorSeating',\n",
       "      'name': 'Outdoor Seating',\n",
       "      'summary': 'Outdoor Seating',\n",
       "      'count': 1,\n",
       "      'items': [{'displayName': 'Outdoor Seating', 'displayValue': 'Yes'}]},\n",
       "     {'type': 'serves',\n",
       "      'name': 'Menus',\n",
       "      'summary': 'Happy Hour, Brunch & more',\n",
       "      'count': 8,\n",
       "      'items': [{'displayName': 'Brunch', 'displayValue': 'Brunch'},\n",
       "       {'displayName': 'Lunch', 'displayValue': 'Lunch'},\n",
       "       {'displayName': 'Dinner', 'displayValue': 'Dinner'},\n",
       "       {'displayName': 'Happy Hour', 'displayValue': 'Happy Hour'}]},\n",
       "     {'type': 'drinks',\n",
       "      'name': 'Drinks',\n",
       "      'summary': 'Beer, Wine & Cocktails',\n",
       "      'count': 5,\n",
       "      'items': [{'displayName': 'Beer', 'displayValue': 'Beer'},\n",
       "       {'displayName': 'Wine', 'displayValue': 'Wine'},\n",
       "       {'displayName': 'Cocktails', 'displayValue': 'Cocktails'}]},\n",
       "     {'type': 'diningOptions',\n",
       "      'name': 'Dining Options',\n",
       "      'summary': 'Delivery',\n",
       "      'count': 5,\n",
       "      'items': [{'displayName': 'Delivery', 'displayValue': 'Delivery'}]}]},\n",
       "   'bestPhoto': {'id': '4fad980de4b091b4626c3633',\n",
       "    'createdAt': 1336776717,\n",
       "    'source': {'name': 'Foursquare for Android',\n",
       "     'url': 'https://foursquare.com/download/#/android'},\n",
       "    'prefix': 'https://fastly.4sqi.net/img/general/',\n",
       "    'suffix': '/ya1iQFI7pLjuIJp1PGDKlrZS3OJdHCF7tpILMmjv_2w.jpg',\n",
       "    'width': 480,\n",
       "    'height': 640,\n",
       "    'visibility': 'public'},\n",
       "   'colors': {'highlightColor': {'photoId': '4fad980de4b091b4626c3633',\n",
       "     'value': -13619152},\n",
       "    'highlightTextColor': {'photoId': '4fad980de4b091b4626c3633', 'value': -1},\n",
       "    'algoVersion': 3}}}}"
      ]
     },
     "execution_count": 55,
     "metadata": {},
     "output_type": "execute_result"
    }
   ],
   "source": [
    "result = requests.get(url).json()\n",
    "result"
   ]
  },
  {
   "cell_type": "code",
   "execution_count": 57,
   "metadata": {},
   "outputs": [
    {
     "name": "stdout",
     "output_type": "stream",
     "text": [
      "dict_keys(['meta', 'response'])\n"
     ]
    }
   ],
   "source": [
    "print(result.keys())"
   ]
  },
  {
   "cell_type": "code",
   "execution_count": 59,
   "metadata": {},
   "outputs": [
    {
     "name": "stdout",
     "output_type": "stream",
     "text": [
      "dict_keys(['venue'])\n"
     ]
    }
   ],
   "source": [
    "print(result['response'].keys())"
   ]
  },
  {
   "cell_type": "code",
   "execution_count": 56,
   "metadata": {
    "button": false,
    "deletable": true,
    "new_sheet": false,
    "run_control": {
     "read_only": false
    }
   },
   "outputs": [
    {
     "name": "stdout",
     "output_type": "stream",
     "text": [
      "dict_keys(['id', 'name', 'contact', 'location', 'canonicalUrl', 'categories', 'verified', 'stats', 'url', 'price', 'hasMenu', 'likes', 'dislike', 'ok', 'rating', 'ratingColor', 'ratingSignals', 'menu', 'allowMenuUrlEdit', 'beenHere', 'specials', 'photos', 'reasons', 'hereNow', 'createdAt', 'tips', 'shortUrl', 'timeZone', 'listed', 'hours', 'popular', 'seasonalHours', 'defaultHours', 'pageUpdates', 'inbox', 'attributes', 'bestPhoto', 'colors'])\n"
     ]
    }
   ],
   "source": [
    "print(result['response']['venue'].keys())\n",
    "\n"
   ]
  },
  {
   "cell_type": "markdown",
   "metadata": {
    "button": false,
    "deletable": true,
    "new_sheet": false,
    "run_control": {
     "read_only": false
    }
   },
   "source": [
    "### B. Get the venue's overall rating"
   ]
  },
  {
   "cell_type": "code",
   "execution_count": 60,
   "metadata": {
    "button": false,
    "collapsed": false,
    "deletable": true,
    "jupyter": {
     "outputs_hidden": false
    },
    "new_sheet": false,
    "run_control": {
     "read_only": false
    }
   },
   "outputs": [
    {
     "name": "stdout",
     "output_type": "stream",
     "text": [
      "6.4\n"
     ]
    }
   ],
   "source": [
    "try:\n",
    "    print(result['response']['venue']['rating'])\n",
    "except:\n",
    "    print('This venue has not been rated yet.')"
   ]
  },
  {
   "cell_type": "markdown",
   "metadata": {
    "button": false,
    "deletable": true,
    "new_sheet": false,
    "run_control": {
     "read_only": false
    }
   },
   "source": [
    "That is not a very good rating. Let's check the rating of the second closest Italian restaurant."
   ]
  },
  {
   "cell_type": "code",
   "execution_count": 18,
   "metadata": {
    "button": false,
    "collapsed": false,
    "deletable": true,
    "jupyter": {
     "outputs_hidden": false
    },
    "new_sheet": false,
    "run_control": {
     "read_only": false
    }
   },
   "outputs": [
    {
     "name": "stdout",
     "output_type": "stream",
     "text": [
      "This venue has not been rated yet.\n"
     ]
    }
   ],
   "source": [
    "venue_id = '4f3232e219836c91c7bfde94' # ID of Conca Cucina Italian Restaurant\n",
    "url = 'https://api.foursquare.com/v2/venues/{}?client_id={}&client_secret={}&v={}'.format(venue_id, CLIENT_ID, CLIENT_SECRET, VERSION)\n",
    "\n",
    "result = requests.get(url).json()\n",
    "try:\n",
    "    print(result['response']['venue']['rating'])\n",
    "except:\n",
    "    print('This venue has not been rated yet.')"
   ]
  },
  {
   "cell_type": "markdown",
   "metadata": {
    "button": false,
    "deletable": true,
    "new_sheet": false,
    "run_control": {
     "read_only": false
    }
   },
   "source": [
    "Since this restaurant has no ratings, let's check the third restaurant."
   ]
  },
  {
   "cell_type": "code",
   "execution_count": 19,
   "metadata": {
    "button": false,
    "collapsed": false,
    "deletable": true,
    "jupyter": {
     "outputs_hidden": false
    },
    "new_sheet": false,
    "run_control": {
     "read_only": false
    }
   },
   "outputs": [
    {
     "name": "stdout",
     "output_type": "stream",
     "text": [
      "7.4\n"
     ]
    }
   ],
   "source": [
    "venue_id = '3fd66200f964a520f4e41ee3' # ID of Ecco\n",
    "url = 'https://api.foursquare.com/v2/venues/{}?client_id={}&client_secret={}&v={}'.format(venue_id, CLIENT_ID, CLIENT_SECRET, VERSION)\n",
    "\n",
    "result = requests.get(url).json()\n",
    "try:\n",
    "    print(result['response']['venue']['rating'])\n",
    "except:\n",
    "    print('This venue has not been rated yet.')"
   ]
  },
  {
   "cell_type": "markdown",
   "metadata": {
    "button": false,
    "deletable": true,
    "new_sheet": false,
    "run_control": {
     "read_only": false
    }
   },
   "source": [
    "Since this restaurant has a slightly better rating, let's explore it further."
   ]
  },
  {
   "cell_type": "markdown",
   "metadata": {
    "button": false,
    "deletable": true,
    "new_sheet": false,
    "run_control": {
     "read_only": false
    }
   },
   "source": [
    "### C. Get the number of tips"
   ]
  },
  {
   "cell_type": "code",
   "execution_count": 20,
   "metadata": {
    "button": false,
    "collapsed": false,
    "deletable": true,
    "jupyter": {
     "outputs_hidden": false
    },
    "new_sheet": false,
    "run_control": {
     "read_only": false
    }
   },
   "outputs": [
    {
     "data": {
      "text/plain": [
       "19"
      ]
     },
     "execution_count": 20,
     "metadata": {},
     "output_type": "execute_result"
    }
   ],
   "source": [
    "result['response']['venue']['tips']['count']"
   ]
  },
  {
   "cell_type": "markdown",
   "metadata": {
    "button": false,
    "deletable": true,
    "new_sheet": false,
    "run_control": {
     "read_only": false
    }
   },
   "source": [
    "### D. Get the venue's tips\n",
    "> `https://api.foursquare.com/v2/venues/`**VENUE_ID**`/tips?client_id=`**CLIENT_ID**`&client_secret=`**CLIENT_SECRET**`&v=`**VERSION**`&limit=`**LIMIT**"
   ]
  },
  {
   "cell_type": "markdown",
   "metadata": {
    "button": false,
    "deletable": true,
    "new_sheet": false,
    "run_control": {
     "read_only": false
    }
   },
   "source": [
    "#### Create URL and send GET request. Make sure to set limit to get all tips"
   ]
  },
  {
   "cell_type": "code",
   "execution_count": 21,
   "metadata": {
    "button": false,
    "collapsed": false,
    "deletable": true,
    "jupyter": {
     "outputs_hidden": false
    },
    "new_sheet": false,
    "run_control": {
     "read_only": false
    }
   },
   "outputs": [
    {
     "data": {
      "text/plain": [
       "{'meta': {'code': 200, 'requestId': '5ede29b00be7b4001b6c18f4'},\n",
       " 'response': {'tips': {'count': 19,\n",
       "   'items': [{'id': '5ab1cb46c9a517174651d3fe',\n",
       "     'createdAt': 1521601350,\n",
       "     'text': 'A+ Italian food! Trust me on this: my mom’s side of the family is 100% Italian. I was born and bred to know good pasta when I see it, and Ecco is one of my all-time NYC favorites',\n",
       "     'type': 'user',\n",
       "     'canonicalUrl': 'https://foursquare.com/item/5ab1cb46c9a517174651d3fe',\n",
       "     'lang': 'en',\n",
       "     'likes': {'count': 0, 'groups': []},\n",
       "     'logView': True,\n",
       "     'agreeCount': 4,\n",
       "     'disagreeCount': 0,\n",
       "     'todo': {'count': 0},\n",
       "     'user': {'id': '484542633',\n",
       "      'firstName': 'Nick',\n",
       "      'lastName': 'E',\n",
       "      'photo': {'prefix': 'https://fastly.4sqi.net/img/user/',\n",
       "       'suffix': '/484542633_unymNUmw_FdPs3GjXHujmHcYnN4hf8kEPADlOZuIrdcdm97VX3tFqL7fFNMNA_8Gl9NlU1GYg.jpg'}},\n",
       "     'authorInteractionType': 'liked'}]}}}"
      ]
     },
     "execution_count": 21,
     "metadata": {},
     "output_type": "execute_result"
    }
   ],
   "source": [
    "## Ecco Tips\n",
    "limit = 19 # set limit to be greater than or equal to the total number of tips\n",
    "url = 'https://api.foursquare.com/v2/venues/{}/tips?client_id={}&client_secret={}&v={}&limit={}'.format(venue_id, CLIENT_ID, CLIENT_SECRET, VERSION, limit)\n",
    "\n",
    "results = requests.get(url).json()\n",
    "results"
   ]
  },
  {
   "cell_type": "markdown",
   "metadata": {
    "button": false,
    "deletable": true,
    "new_sheet": false,
    "run_control": {
     "read_only": false
    }
   },
   "source": [
    "#### Get tips and list of associated features"
   ]
  },
  {
   "cell_type": "code",
   "execution_count": 22,
   "metadata": {
    "button": false,
    "collapsed": false,
    "deletable": true,
    "jupyter": {
     "outputs_hidden": false
    },
    "new_sheet": false,
    "run_control": {
     "read_only": false
    }
   },
   "outputs": [
    {
     "data": {
      "text/plain": [
       "dict_keys(['id', 'createdAt', 'text', 'type', 'canonicalUrl', 'lang', 'likes', 'logView', 'agreeCount', 'disagreeCount', 'todo', 'user', 'authorInteractionType'])"
      ]
     },
     "execution_count": 22,
     "metadata": {},
     "output_type": "execute_result"
    }
   ],
   "source": [
    "tips = results['response']['tips']['items']\n",
    "\n",
    "tip = results['response']['tips']['items'][0]\n",
    "tip.keys()"
   ]
  },
  {
   "cell_type": "markdown",
   "metadata": {
    "button": false,
    "deletable": true,
    "new_sheet": false,
    "run_control": {
     "read_only": false
    }
   },
   "source": [
    "#### Format column width and display all tips"
   ]
  },
  {
   "cell_type": "code",
   "execution_count": 24,
   "metadata": {
    "button": false,
    "collapsed": false,
    "deletable": true,
    "jupyter": {
     "outputs_hidden": false
    },
    "new_sheet": false,
    "run_control": {
     "read_only": false
    }
   },
   "outputs": [
    {
     "data": {
      "text/html": [
       "<div>\n",
       "<style scoped>\n",
       "    .dataframe tbody tr th:only-of-type {\n",
       "        vertical-align: middle;\n",
       "    }\n",
       "\n",
       "    .dataframe tbody tr th {\n",
       "        vertical-align: top;\n",
       "    }\n",
       "\n",
       "    .dataframe thead th {\n",
       "        text-align: right;\n",
       "    }\n",
       "</style>\n",
       "<table border=\"1\" class=\"dataframe\">\n",
       "  <thead>\n",
       "    <tr style=\"text-align: right;\">\n",
       "      <th></th>\n",
       "      <th>text</th>\n",
       "      <th>agreeCount</th>\n",
       "      <th>disagreeCount</th>\n",
       "      <th>id</th>\n",
       "      <th>user.firstName</th>\n",
       "      <th>user.lastName</th>\n",
       "    </tr>\n",
       "  </thead>\n",
       "  <tbody>\n",
       "    <tr>\n",
       "      <th>0</th>\n",
       "      <td>A+ Italian food! Trust me on this: my mom’s side of the family is 100% Italian. I was born and bred to know good pasta when I see it, and Ecco is one of my all-time NYC favorites</td>\n",
       "      <td>4</td>\n",
       "      <td>0</td>\n",
       "      <td>5ab1cb46c9a517174651d3fe</td>\n",
       "      <td>Nick</td>\n",
       "      <td>E</td>\n",
       "    </tr>\n",
       "  </tbody>\n",
       "</table>\n",
       "</div>"
      ],
      "text/plain": [
       "                                                                                                                                                                                 text  \\\n",
       "0  A+ Italian food! Trust me on this: my mom’s side of the family is 100% Italian. I was born and bred to know good pasta when I see it, and Ecco is one of my all-time NYC favorites   \n",
       "\n",
       "   agreeCount  disagreeCount                        id user.firstName  \\\n",
       "0           4              0  5ab1cb46c9a517174651d3fe           Nick   \n",
       "\n",
       "  user.lastName  \n",
       "0             E  "
      ]
     },
     "execution_count": 24,
     "metadata": {},
     "output_type": "execute_result"
    }
   ],
   "source": [
    "pd.set_option('display.max_colwidth', None)\n",
    "\n",
    "tips_df = pd.json_normalize(tips) # json normalize tips\n",
    "\n",
    "# columns to keep\n",
    "filtered_columns = ['text', 'agreeCount', 'disagreeCount', 'id', 'user.firstName', 'user.lastName',] #'user.gender', 'user.id']\n",
    "tips_filtered = tips_df[filtered_columns]\n",
    "#tips_filtered = tips_df.loc[:, filtered_columns]\n",
    "# display tips\n",
    "tips_filtered"
   ]
  },
  {
   "cell_type": "markdown",
   "metadata": {
    "button": false,
    "deletable": true,
    "new_sheet": false,
    "run_control": {
     "read_only": false
    }
   },
   "source": [
    "Now remember that because we are using a personal developer account, then we can access only 2 of the restaurant's tips, instead of all 15 tips."
   ]
  },
  {
   "cell_type": "markdown",
   "metadata": {
    "button": false,
    "deletable": true,
    "new_sheet": false,
    "run_control": {
     "read_only": false
    }
   },
   "source": [
    "   "
   ]
  },
  {
   "cell_type": "markdown",
   "metadata": {
    "button": false,
    "deletable": true,
    "new_sheet": false,
    "run_control": {
     "read_only": false
    }
   },
   "source": [
    "<a id=\"item3\"></a>"
   ]
  },
  {
   "cell_type": "markdown",
   "metadata": {
    "button": false,
    "deletable": true,
    "new_sheet": false,
    "run_control": {
     "read_only": false
    }
   },
   "source": [
    "## 3. Search a Foursquare User\n",
    "> `https://api.foursquare.com/v2/users/`**USER_ID**`?client_id=`**CLIENT_ID**`&client_secret=`**CLIENT_SECRET**`&v=`**VERSION**"
   ]
  },
  {
   "cell_type": "markdown",
   "metadata": {
    "button": false,
    "deletable": true,
    "new_sheet": false,
    "run_control": {
     "read_only": false
    }
   },
   "source": [
    "### Define URL, send GET request and display features associated with user"
   ]
  },
  {
   "cell_type": "code",
   "execution_count": 25,
   "metadata": {
    "button": false,
    "collapsed": false,
    "deletable": true,
    "jupyter": {
     "outputs_hidden": false
    },
    "new_sheet": false,
    "run_control": {
     "read_only": false
    }
   },
   "outputs": [
    {
     "ename": "KeyError",
     "evalue": "'user'",
     "output_type": "error",
     "traceback": [
      "\u001b[1;31m---------------------------------------------------------------------------\u001b[0m",
      "\u001b[1;31mKeyError\u001b[0m                                  Traceback (most recent call last)",
      "\u001b[1;32m<ipython-input-25-91224d45fd37>\u001b[0m in \u001b[0;36m<module>\u001b[1;34m\u001b[0m\n\u001b[0;32m      5\u001b[0m \u001b[1;31m# send GET request\u001b[0m\u001b[1;33m\u001b[0m\u001b[1;33m\u001b[0m\u001b[1;33m\u001b[0m\u001b[0m\n\u001b[0;32m      6\u001b[0m \u001b[0mresults\u001b[0m \u001b[1;33m=\u001b[0m \u001b[0mrequests\u001b[0m\u001b[1;33m.\u001b[0m\u001b[0mget\u001b[0m\u001b[1;33m(\u001b[0m\u001b[0murl\u001b[0m\u001b[1;33m)\u001b[0m\u001b[1;33m.\u001b[0m\u001b[0mjson\u001b[0m\u001b[1;33m(\u001b[0m\u001b[1;33m)\u001b[0m\u001b[1;33m\u001b[0m\u001b[1;33m\u001b[0m\u001b[0m\n\u001b[1;32m----> 7\u001b[1;33m \u001b[0muser_data\u001b[0m \u001b[1;33m=\u001b[0m \u001b[0mresults\u001b[0m\u001b[1;33m[\u001b[0m\u001b[1;34m'response'\u001b[0m\u001b[1;33m]\u001b[0m\u001b[1;33m[\u001b[0m\u001b[1;34m'user'\u001b[0m\u001b[1;33m]\u001b[0m\u001b[1;33m\u001b[0m\u001b[1;33m\u001b[0m\u001b[0m\n\u001b[0m\u001b[0;32m      8\u001b[0m \u001b[1;33m\u001b[0m\u001b[0m\n\u001b[0;32m      9\u001b[0m \u001b[1;31m# display features associated with user\u001b[0m\u001b[1;33m\u001b[0m\u001b[1;33m\u001b[0m\u001b[1;33m\u001b[0m\u001b[0m\n",
      "\u001b[1;31mKeyError\u001b[0m: 'user'"
     ]
    }
   ],
   "source": [
    "user_id = '484542633' # user ID with most agree counts and complete profile\n",
    "\n",
    "url = 'https://api.foursquare.com/v2/users/{}?client_id={}&client_secret={}&v={}'.format(user_id, CLIENT_ID, CLIENT_SECRET, VERSION) # define URL\n",
    "\n",
    "# send GET request\n",
    "results = requests.get(url).json()\n",
    "user_data = results['response']['user']\n",
    "\n",
    "# display features associated with user\n",
    "user_data.keys()"
   ]
  },
  {
   "cell_type": "code",
   "execution_count": 41,
   "metadata": {
    "button": false,
    "collapsed": false,
    "deletable": true,
    "jupyter": {
     "outputs_hidden": false
    },
    "new_sheet": false,
    "run_control": {
     "read_only": false
    }
   },
   "outputs": [
    {
     "ename": "NameError",
     "evalue": "name 'user_data' is not defined",
     "output_type": "error",
     "traceback": [
      "\u001b[1;31m---------------------------------------------------------------------------\u001b[0m",
      "\u001b[1;31mNameError\u001b[0m                                 Traceback (most recent call last)",
      "\u001b[1;32m<ipython-input-41-6c3d173b902c>\u001b[0m in \u001b[0;36m<module>\u001b[1;34m\u001b[0m\n\u001b[1;32m----> 1\u001b[1;33m \u001b[0mprint\u001b[0m\u001b[1;33m(\u001b[0m\u001b[1;34m'First Name: '\u001b[0m \u001b[1;33m+\u001b[0m \u001b[0muser_data\u001b[0m\u001b[1;33m[\u001b[0m\u001b[1;34m'firstName'\u001b[0m\u001b[1;33m]\u001b[0m\u001b[1;33m)\u001b[0m\u001b[1;33m\u001b[0m\u001b[1;33m\u001b[0m\u001b[0m\n\u001b[0m\u001b[0;32m      2\u001b[0m \u001b[0mprint\u001b[0m\u001b[1;33m(\u001b[0m\u001b[1;34m'Last Name: '\u001b[0m \u001b[1;33m+\u001b[0m \u001b[0muser_data\u001b[0m\u001b[1;33m[\u001b[0m\u001b[1;34m'lastName'\u001b[0m\u001b[1;33m]\u001b[0m\u001b[1;33m)\u001b[0m\u001b[1;33m\u001b[0m\u001b[1;33m\u001b[0m\u001b[0m\n\u001b[0;32m      3\u001b[0m \u001b[0mprint\u001b[0m\u001b[1;33m(\u001b[0m\u001b[1;34m'Home City: '\u001b[0m \u001b[1;33m+\u001b[0m \u001b[0muser_data\u001b[0m\u001b[1;33m[\u001b[0m\u001b[1;34m'homeCity'\u001b[0m\u001b[1;33m]\u001b[0m\u001b[1;33m)\u001b[0m\u001b[1;33m\u001b[0m\u001b[1;33m\u001b[0m\u001b[0m\n",
      "\u001b[1;31mNameError\u001b[0m: name 'user_data' is not defined"
     ]
    }
   ],
   "source": [
    "print('First Name: ' + user_data['firstName'])\n",
    "print('Last Name: ' + user_data['lastName'])\n",
    "print('Home City: ' + user_data['homeCity'])"
   ]
  },
  {
   "cell_type": "markdown",
   "metadata": {
    "button": false,
    "deletable": true,
    "new_sheet": false,
    "run_control": {
     "read_only": false
    }
   },
   "source": [
    "#### How many tips has this user submitted?"
   ]
  },
  {
   "cell_type": "code",
   "execution_count": 42,
   "metadata": {
    "button": false,
    "collapsed": false,
    "deletable": true,
    "jupyter": {
     "outputs_hidden": false
    },
    "new_sheet": false,
    "run_control": {
     "read_only": false
    }
   },
   "outputs": [
    {
     "ename": "NameError",
     "evalue": "name 'user_data' is not defined",
     "output_type": "error",
     "traceback": [
      "\u001b[1;31m---------------------------------------------------------------------------\u001b[0m",
      "\u001b[1;31mNameError\u001b[0m                                 Traceback (most recent call last)",
      "\u001b[1;32m<ipython-input-42-6335e7dc938e>\u001b[0m in \u001b[0;36m<module>\u001b[1;34m\u001b[0m\n\u001b[1;32m----> 1\u001b[1;33m \u001b[0muser_data\u001b[0m\u001b[1;33m[\u001b[0m\u001b[1;34m'tips'\u001b[0m\u001b[1;33m]\u001b[0m\u001b[1;33m\u001b[0m\u001b[1;33m\u001b[0m\u001b[0m\n\u001b[0m",
      "\u001b[1;31mNameError\u001b[0m: name 'user_data' is not defined"
     ]
    }
   ],
   "source": [
    "user_data['tips']"
   ]
  },
  {
   "cell_type": "markdown",
   "metadata": {
    "button": false,
    "deletable": true,
    "new_sheet": false,
    "run_control": {
     "read_only": false
    }
   },
   "source": [
    "Wow! So it turns out that Nick is a very active Foursquare user, with more than 250 tips."
   ]
  },
  {
   "cell_type": "markdown",
   "metadata": {
    "button": false,
    "deletable": true,
    "new_sheet": false,
    "run_control": {
     "read_only": false
    }
   },
   "source": [
    "### Get User's tips"
   ]
  },
  {
   "cell_type": "code",
   "execution_count": 28,
   "metadata": {
    "button": false,
    "collapsed": false,
    "deletable": true,
    "jupyter": {
     "outputs_hidden": false
    },
    "new_sheet": false,
    "run_control": {
     "read_only": false
    }
   },
   "outputs": [
    {
     "data": {
      "text/html": [
       "<div>\n",
       "<style scoped>\n",
       "    .dataframe tbody tr th:only-of-type {\n",
       "        vertical-align: middle;\n",
       "    }\n",
       "\n",
       "    .dataframe tbody tr th {\n",
       "        vertical-align: top;\n",
       "    }\n",
       "\n",
       "    .dataframe thead th {\n",
       "        text-align: right;\n",
       "    }\n",
       "</style>\n",
       "<table border=\"1\" class=\"dataframe\">\n",
       "  <thead>\n",
       "    <tr style=\"text-align: right;\">\n",
       "      <th></th>\n",
       "      <th>text</th>\n",
       "      <th>agreeCount</th>\n",
       "      <th>disagreeCount</th>\n",
       "      <th>id</th>\n",
       "    </tr>\n",
       "  </thead>\n",
       "  <tbody>\n",
       "    <tr>\n",
       "      <th>0</th>\n",
       "      <td>They serve coffee!!!!!!</td>\n",
       "      <td>1</td>\n",
       "      <td>0</td>\n",
       "      <td>5accc98c0313204c9d7ec157</td>\n",
       "    </tr>\n",
       "    <tr>\n",
       "      <th>1</th>\n",
       "      <td>Quick, cheap lunch that tastes good! Way shorter line than Chipotle, too.</td>\n",
       "      <td>2</td>\n",
       "      <td>0</td>\n",
       "      <td>5acbec70a0215b732e264fe8</td>\n",
       "    </tr>\n",
       "    <tr>\n",
       "      <th>2</th>\n",
       "      <td>You’re not a real New Yorker until you’ve shame-ordered Insomnia Cookies for delivery at 3am</td>\n",
       "      <td>1</td>\n",
       "      <td>0</td>\n",
       "      <td>5acbbd4eb1538e45373b07f5</td>\n",
       "    </tr>\n",
       "    <tr>\n",
       "      <th>3</th>\n",
       "      <td>Good for you yet still tasty! Clean green protein is my go-to after I hit the gym 💪</td>\n",
       "      <td>2</td>\n",
       "      <td>0</td>\n",
       "      <td>5acbbcda01235808d5d6dc75</td>\n",
       "    </tr>\n",
       "    <tr>\n",
       "      <th>4</th>\n",
       "      <td>Burger game strong 💪</td>\n",
       "      <td>1</td>\n",
       "      <td>0</td>\n",
       "      <td>5ab575fb6bdee65f759da8c1</td>\n",
       "    </tr>\n",
       "    <tr>\n",
       "      <th>5</th>\n",
       "      <td>Great burgers &amp; fries! Also, this place is exactly what it’s like when you go to a bar in the Southwest. Source: I’m from Arizona.</td>\n",
       "      <td>2</td>\n",
       "      <td>0</td>\n",
       "      <td>5ab5575d73fe2516ad8f363b</td>\n",
       "    </tr>\n",
       "    <tr>\n",
       "      <th>6</th>\n",
       "      <td>Açaí bowl + peanut butter + whey protein = 💪💪💪</td>\n",
       "      <td>1</td>\n",
       "      <td>0</td>\n",
       "      <td>5ab42db53c858d64af2688a4</td>\n",
       "    </tr>\n",
       "    <tr>\n",
       "      <th>7</th>\n",
       "      <td>Highly underrated and way less crowded than Central Park!</td>\n",
       "      <td>3</td>\n",
       "      <td>0</td>\n",
       "      <td>5ab42c396f706a29f53ad1a8</td>\n",
       "    </tr>\n",
       "    <tr>\n",
       "      <th>8</th>\n",
       "      <td>Way easier to navigate than the Met proper, plus the Met Breuer focuses on modern art. If I only have a limited amount of time to spend in a museum, I would rather go here than anywhere else!</td>\n",
       "      <td>6</td>\n",
       "      <td>0</td>\n",
       "      <td>5ab42b987dc9e17930e5ff5b</td>\n",
       "    </tr>\n",
       "    <tr>\n",
       "      <th>9</th>\n",
       "      <td>Get the açaí bowl with peanut butter after your work out and thank me later 👌</td>\n",
       "      <td>1</td>\n",
       "      <td>0</td>\n",
       "      <td>5ab42aca2a7ab6333652b266</td>\n",
       "    </tr>\n",
       "    <tr>\n",
       "      <th>10</th>\n",
       "      <td>When you want a burger, this should be the first thing that comes to mind. A+!</td>\n",
       "      <td>1</td>\n",
       "      <td>0</td>\n",
       "      <td>5ab42a28da5e5617d18e3a6a</td>\n",
       "    </tr>\n",
       "    <tr>\n",
       "      <th>11</th>\n",
       "      <td>Way less crowded than Central Park! People who live in the neighborhood rave about Carl Schurz Park.</td>\n",
       "      <td>3</td>\n",
       "      <td>0</td>\n",
       "      <td>5ab429db1ffe971b060083f5</td>\n",
       "    </tr>\n",
       "    <tr>\n",
       "      <th>12</th>\n",
       "      <td>The best Mexican food in the Murray Hill / Kips Bay area!</td>\n",
       "      <td>1</td>\n",
       "      <td>0</td>\n",
       "      <td>5ab3f53f8496ca57542d5549</td>\n",
       "    </tr>\n",
       "    <tr>\n",
       "      <th>13</th>\n",
       "      <td>Best coffee shop in the neighborhood!</td>\n",
       "      <td>1</td>\n",
       "      <td>0</td>\n",
       "      <td>5ab3f428da5e5617d17d1475</td>\n",
       "    </tr>\n",
       "    <tr>\n",
       "      <th>14</th>\n",
       "      <td>When there’s nice weather, the rooftop at Tonic East is the best place to watch the game. Perfect for March Madness &amp; NBA finals!</td>\n",
       "      <td>2</td>\n",
       "      <td>0</td>\n",
       "      <td>5ab3f3fedd70c572de886c9d</td>\n",
       "    </tr>\n",
       "    <tr>\n",
       "      <th>15</th>\n",
       "      <td>Rib game level 💯</td>\n",
       "      <td>1</td>\n",
       "      <td>0</td>\n",
       "      <td>5ab3f372da2e00604ca53924</td>\n",
       "    </tr>\n",
       "    <tr>\n",
       "      <th>16</th>\n",
       "      <td>Solid option for good Mexican food, which is hard to find in Murray Hill.</td>\n",
       "      <td>4</td>\n",
       "      <td>0</td>\n",
       "      <td>5ab3f275dff815096a61884e</td>\n",
       "    </tr>\n",
       "    <tr>\n",
       "      <th>17</th>\n",
       "      <td>My parents love this place. They always go here when they visit NYC, even though I tell them there are 5,689,097,788 other pizza places. They don’t dare. That has to count for something, right?</td>\n",
       "      <td>2</td>\n",
       "      <td>0</td>\n",
       "      <td>5ab3ef834c954c7a779e20ff</td>\n",
       "    </tr>\n",
       "    <tr>\n",
       "      <th>18</th>\n",
       "      <td>So good it makes me burp after every meal. I’ve been told that’s a compliment in France, so I’m going to keep doing it 🇫🇷</td>\n",
       "      <td>2</td>\n",
       "      <td>0</td>\n",
       "      <td>5ab3e8d6d0336060272dd4d9</td>\n",
       "    </tr>\n",
       "  </tbody>\n",
       "</table>\n",
       "</div>"
      ],
      "text/plain": [
       "                                                                                                                                                                                                 text  \\\n",
       "0                                                                                                                                                                             They serve coffee!!!!!!   \n",
       "1                                                                                                                           Quick, cheap lunch that tastes good! Way shorter line than Chipotle, too.   \n",
       "2                                                                                                        You’re not a real New Yorker until you’ve shame-ordered Insomnia Cookies for delivery at 3am   \n",
       "3                                                                                                                 Good for you yet still tasty! Clean green protein is my go-to after I hit the gym 💪   \n",
       "4                                                                                                                                                                                Burger game strong 💪   \n",
       "5                                                                  Great burgers & fries! Also, this place is exactly what it’s like when you go to a bar in the Southwest. Source: I’m from Arizona.   \n",
       "6                                                                                                                                                      Açaí bowl + peanut butter + whey protein = 💪💪💪   \n",
       "7                                                                                                                                           Highly underrated and way less crowded than Central Park!   \n",
       "8     Way easier to navigate than the Met proper, plus the Met Breuer focuses on modern art. If I only have a limited amount of time to spend in a museum, I would rather go here than anywhere else!   \n",
       "9                                                                                                                       Get the açaí bowl with peanut butter after your work out and thank me later 👌   \n",
       "10                                                                                                                     When you want a burger, this should be the first thing that comes to mind. A+!   \n",
       "11                                                                                               Way less crowded than Central Park! People who live in the neighborhood rave about Carl Schurz Park.   \n",
       "12                                                                                                                                          The best Mexican food in the Murray Hill / Kips Bay area!   \n",
       "13                                                                                                                                                              Best coffee shop in the neighborhood!   \n",
       "14                                                                  When there’s nice weather, the rooftop at Tonic East is the best place to watch the game. Perfect for March Madness & NBA finals!   \n",
       "15                                                                                                                                                                                   Rib game level 💯   \n",
       "16                                                                                                                          Solid option for good Mexican food, which is hard to find in Murray Hill.   \n",
       "17  My parents love this place. They always go here when they visit NYC, even though I tell them there are 5,689,097,788 other pizza places. They don’t dare. That has to count for something, right?   \n",
       "18                                                                          So good it makes me burp after every meal. I’ve been told that’s a compliment in France, so I’m going to keep doing it 🇫🇷   \n",
       "\n",
       "    agreeCount  disagreeCount                        id  \n",
       "0            1              0  5accc98c0313204c9d7ec157  \n",
       "1            2              0  5acbec70a0215b732e264fe8  \n",
       "2            1              0  5acbbd4eb1538e45373b07f5  \n",
       "3            2              0  5acbbcda01235808d5d6dc75  \n",
       "4            1              0  5ab575fb6bdee65f759da8c1  \n",
       "5            2              0  5ab5575d73fe2516ad8f363b  \n",
       "6            1              0  5ab42db53c858d64af2688a4  \n",
       "7            3              0  5ab42c396f706a29f53ad1a8  \n",
       "8            6              0  5ab42b987dc9e17930e5ff5b  \n",
       "9            1              0  5ab42aca2a7ab6333652b266  \n",
       "10           1              0  5ab42a28da5e5617d18e3a6a  \n",
       "11           3              0  5ab429db1ffe971b060083f5  \n",
       "12           1              0  5ab3f53f8496ca57542d5549  \n",
       "13           1              0  5ab3f428da5e5617d17d1475  \n",
       "14           2              0  5ab3f3fedd70c572de886c9d  \n",
       "15           1              0  5ab3f372da2e00604ca53924  \n",
       "16           4              0  5ab3f275dff815096a61884e  \n",
       "17           2              0  5ab3ef834c954c7a779e20ff  \n",
       "18           2              0  5ab3e8d6d0336060272dd4d9  "
      ]
     },
     "execution_count": 28,
     "metadata": {},
     "output_type": "execute_result"
    }
   ],
   "source": [
    "# define tips URL\n",
    "url = 'https://api.foursquare.com/v2/users/{}/tips?client_id={}&client_secret={}&v={}&limit={}'.format(user_id, CLIENT_ID, CLIENT_SECRET, VERSION, limit)\n",
    "\n",
    "# send GET request and get user's tips\n",
    "results = requests.get(url).json()\n",
    "tips = results['response']['tips']['items']\n",
    "\n",
    "# format column width\n",
    "pd.set_option('display.max_colwidth', None)\n",
    "\n",
    "tips_df = pd.json_normalize(tips)\n",
    "\n",
    "# filter columns\n",
    "filtered_columns = ['text', 'agreeCount', 'disagreeCount', 'id']\n",
    "tips_filtered = tips_df.loc[:, filtered_columns]\n",
    "\n",
    "# display user's tips\n",
    "tips_filtered"
   ]
  },
  {
   "cell_type": "markdown",
   "metadata": {
    "button": false,
    "deletable": true,
    "new_sheet": false,
    "run_control": {
     "read_only": false
    }
   },
   "source": [
    "#### Let's get the venue for the tip with the greatest number of agree counts"
   ]
  },
  {
   "cell_type": "code",
   "execution_count": 29,
   "metadata": {
    "button": false,
    "collapsed": false,
    "deletable": true,
    "jupyter": {
     "outputs_hidden": false
    },
    "new_sheet": false,
    "run_control": {
     "read_only": false
    }
   },
   "outputs": [
    {
     "name": "stdout",
     "output_type": "stream",
     "text": [
      "Cowgirl\n",
      "{'address': '519 Hudson St', 'crossStreet': 'at W 10th St', 'lat': 40.73373338282062, 'lng': -74.0062998849649, 'labeledLatLngs': [{'label': 'display', 'lat': 40.73373338282062, 'lng': -74.0062998849649}], 'postalCode': '10014', 'cc': 'US', 'city': 'New York', 'state': 'NY', 'country': 'United States', 'formattedAddress': ['519 Hudson St (at W 10th St)', 'New York, NY 10014', 'United States']}\n"
     ]
    }
   ],
   "source": [
    "tip_id = '5ab5575d73fe2516ad8f363b' # tip id\n",
    "\n",
    "# define URL\n",
    "url = 'http://api.foursquare.com/v2/tips/{}?client_id={}&client_secret={}&v={}'.format(tip_id, CLIENT_ID, CLIENT_SECRET, VERSION)\n",
    "\n",
    "# send GET Request and examine results\n",
    "result = requests.get(url).json()\n",
    "print(result['response']['tip']['venue']['name'])\n",
    "print(result['response']['tip']['venue']['location'])"
   ]
  },
  {
   "cell_type": "markdown",
   "metadata": {
    "button": false,
    "deletable": true,
    "new_sheet": false,
    "run_control": {
     "read_only": false
    }
   },
   "source": [
    "### Get User's friends"
   ]
  },
  {
   "cell_type": "code",
   "execution_count": 30,
   "metadata": {
    "button": false,
    "collapsed": false,
    "deletable": true,
    "jupyter": {
     "outputs_hidden": false
    },
    "new_sheet": false,
    "run_control": {
     "read_only": false
    }
   },
   "outputs": [
    {
     "ename": "NameError",
     "evalue": "name 'user_data' is not defined",
     "output_type": "error",
     "traceback": [
      "\u001b[1;31m---------------------------------------------------------------------------\u001b[0m",
      "\u001b[1;31mNameError\u001b[0m                                 Traceback (most recent call last)",
      "\u001b[1;32m<ipython-input-30-bcc27b1bf8b4>\u001b[0m in \u001b[0;36m<module>\u001b[1;34m\u001b[0m\n\u001b[1;32m----> 1\u001b[1;33m \u001b[0muser_friends\u001b[0m \u001b[1;33m=\u001b[0m \u001b[0mjson_normalize\u001b[0m\u001b[1;33m(\u001b[0m\u001b[0muser_data\u001b[0m\u001b[1;33m[\u001b[0m\u001b[1;34m'friends'\u001b[0m\u001b[1;33m]\u001b[0m\u001b[1;33m[\u001b[0m\u001b[1;34m'groups'\u001b[0m\u001b[1;33m]\u001b[0m\u001b[1;33m[\u001b[0m\u001b[1;36m0\u001b[0m\u001b[1;33m]\u001b[0m\u001b[1;33m[\u001b[0m\u001b[1;34m'items'\u001b[0m\u001b[1;33m]\u001b[0m\u001b[1;33m)\u001b[0m\u001b[1;33m\u001b[0m\u001b[1;33m\u001b[0m\u001b[0m\n\u001b[0m\u001b[0;32m      2\u001b[0m \u001b[0muser_friends\u001b[0m\u001b[1;33m\u001b[0m\u001b[1;33m\u001b[0m\u001b[0m\n",
      "\u001b[1;31mNameError\u001b[0m: name 'user_data' is not defined"
     ]
    }
   ],
   "source": [
    "user_friends = json_normalize(user_data['friends']['groups'][0]['items'])\n",
    "user_friends"
   ]
  },
  {
   "cell_type": "markdown",
   "metadata": {
    "button": false,
    "deletable": true,
    "new_sheet": false,
    "run_control": {
     "read_only": false
    }
   },
   "source": [
    "Interesting. Despite being very active, it turns out that Nick does not have any friends on Foursquare. This might definitely change in the future."
   ]
  },
  {
   "cell_type": "markdown",
   "metadata": {
    "button": false,
    "deletable": true,
    "new_sheet": false,
    "run_control": {
     "read_only": false
    }
   },
   "source": [
    "### Retrieve the User's Profile Image"
   ]
  },
  {
   "cell_type": "code",
   "execution_count": null,
   "metadata": {
    "button": false,
    "collapsed": false,
    "deletable": true,
    "jupyter": {
     "outputs_hidden": false
    },
    "new_sheet": false,
    "run_control": {
     "read_only": false
    },
    "scrolled": true
   },
   "outputs": [],
   "source": [
    "user_data"
   ]
  },
  {
   "cell_type": "code",
   "execution_count": null,
   "metadata": {
    "button": false,
    "collapsed": false,
    "deletable": true,
    "jupyter": {
     "outputs_hidden": false
    },
    "new_sheet": false,
    "run_control": {
     "read_only": false
    }
   },
   "outputs": [],
   "source": [
    "# 1. grab prefix of photo\n",
    "# 2. grab suffix of photo\n",
    "# 3. concatenate them using the image size  \n",
    "Image(url='https://igx.4sqi.net/img/user/300x300/484542633_mK2Yum7T_7Tn9fWpndidJsmw2Hof_6T5vJBKCHPLMK5OL-U5ZiJGj51iwBstcpDLYa3Zvhvis.jpg')"
   ]
  },
  {
   "cell_type": "markdown",
   "metadata": {
    "button": false,
    "deletable": true,
    "new_sheet": false,
    "run_control": {
     "read_only": false
    }
   },
   "source": [
    "  "
   ]
  },
  {
   "cell_type": "markdown",
   "metadata": {
    "button": false,
    "deletable": true,
    "new_sheet": false,
    "run_control": {
     "read_only": false
    }
   },
   "source": [
    "<a id=\"item4\"></a>"
   ]
  },
  {
   "cell_type": "markdown",
   "metadata": {
    "button": false,
    "deletable": true,
    "new_sheet": false,
    "run_control": {
     "read_only": false
    }
   },
   "source": [
    "## 4. Explore a location\n",
    "> `https://api.foursquare.com/v2/venues/`**explore**`?client_id=`**CLIENT_ID**`&client_secret=`**CLIENT_SECRET**`&ll=`**LATITUDE**`,`**LONGITUDE**`&v=`**VERSION**`&limit=`**LIMIT**"
   ]
  },
  {
   "cell_type": "markdown",
   "metadata": {
    "button": false,
    "deletable": true,
    "new_sheet": false,
    "run_control": {
     "read_only": false
    }
   },
   "source": [
    "#### So, you just finished your gourmet dish at Ecco, and are just curious about the popular spots around the restaurant. In order to explore the area, let's start by getting the latitude and longitude values of Ecco Restaurant."
   ]
  },
  {
   "cell_type": "code",
   "execution_count": 61,
   "metadata": {
    "button": false,
    "deletable": true,
    "new_sheet": false,
    "run_control": {
     "read_only": false
    }
   },
   "outputs": [],
   "source": [
    "latitude = 40.715337\n",
    "longitude = -74.008848"
   ]
  },
  {
   "cell_type": "markdown",
   "metadata": {
    "button": false,
    "deletable": true,
    "new_sheet": false,
    "run_control": {
     "read_only": false
    }
   },
   "source": [
    "#### Define URL"
   ]
  },
  {
   "cell_type": "code",
   "execution_count": 62,
   "metadata": {
    "button": false,
    "collapsed": false,
    "deletable": true,
    "jupyter": {
     "outputs_hidden": false
    },
    "new_sheet": false,
    "run_control": {
     "read_only": false
    }
   },
   "outputs": [
    {
     "data": {
      "text/plain": [
       "'https://api.foursquare.com/v2/venues/explore?client_id=VTLL41IJT01LOJ3WO5WYD5KTDBCCPTRNO53PFQ1O1WXIOWEN&client_secret=RK02SWLA1P4RODIKLQ5CE432I2EKLERWQTML2KBKEPXXYCY4&ll=40.715337,-74.008848&v=20180604&radius=500&limit=30'"
      ]
     },
     "execution_count": 62,
     "metadata": {},
     "output_type": "execute_result"
    }
   ],
   "source": [
    "url = 'https://api.foursquare.com/v2/venues/explore?client_id={}&client_secret={}&ll={},{}&v={}&radius={}&limit={}'.format(CLIENT_ID, CLIENT_SECRET, latitude, longitude, VERSION, radius, LIMIT)\n",
    "url"
   ]
  },
  {
   "cell_type": "markdown",
   "metadata": {
    "button": false,
    "deletable": true,
    "new_sheet": false,
    "run_control": {
     "read_only": false
    }
   },
   "source": [
    "#### Send GET request and examine results"
   ]
  },
  {
   "cell_type": "code",
   "execution_count": 63,
   "metadata": {
    "button": false,
    "deletable": true,
    "new_sheet": false,
    "run_control": {
     "read_only": false
    }
   },
   "outputs": [],
   "source": [
    "import requests"
   ]
  },
  {
   "cell_type": "code",
   "execution_count": 64,
   "metadata": {
    "button": false,
    "collapsed": false,
    "deletable": true,
    "jupyter": {
     "outputs_hidden": false
    },
    "new_sheet": false,
    "run_control": {
     "read_only": false
    }
   },
   "outputs": [
    {
     "data": {
      "text/plain": [
       "'There are 30 around Ecco restaurant.'"
      ]
     },
     "execution_count": 64,
     "metadata": {},
     "output_type": "execute_result"
    }
   ],
   "source": [
    "results = requests.get(url).json()\n",
    "'There are {} around Ecco restaurant.'.format(len(results['response']['groups'][0]['items']))"
   ]
  },
  {
   "cell_type": "markdown",
   "metadata": {
    "button": false,
    "deletable": true,
    "new_sheet": false,
    "run_control": {
     "read_only": false
    }
   },
   "source": [
    "#### Get relevant part of JSON"
   ]
  },
  {
   "cell_type": "code",
   "execution_count": 34,
   "metadata": {
    "button": false,
    "collapsed": false,
    "deletable": true,
    "jupyter": {
     "outputs_hidden": false
    },
    "new_sheet": false,
    "run_control": {
     "read_only": false
    }
   },
   "outputs": [
    {
     "data": {
      "text/plain": [
       "{'reasons': {'count': 0,\n",
       "  'items': [{'summary': 'This spot is popular',\n",
       "    'type': 'general',\n",
       "    'reasonName': 'globalInteractionReason'}]},\n",
       " 'venue': {'id': '4a6757aaf964a52037c91fe3',\n",
       "  'name': 'Teardrop Park',\n",
       "  'location': {'address': 'Warren St',\n",
       "   'crossStreet': 'btwn River Terrace & North End Ave',\n",
       "   'lat': 40.716843120089855,\n",
       "   'lng': -74.01557592134671,\n",
       "   'labeledLatLngs': [{'label': 'display',\n",
       "     'lat': 40.716843120089855,\n",
       "     'lng': -74.01557592134671}],\n",
       "   'distance': 188,\n",
       "   'postalCode': '10005',\n",
       "   'cc': 'US',\n",
       "   'city': 'New York',\n",
       "   'state': 'NY',\n",
       "   'country': 'United States',\n",
       "   'formattedAddress': ['Warren St (btwn River Terrace & North End Ave)',\n",
       "    'New York, NY 10005',\n",
       "    'United States']},\n",
       "  'categories': [{'id': '4bf58dd8d48988d163941735',\n",
       "    'name': 'Park',\n",
       "    'pluralName': 'Parks',\n",
       "    'shortName': 'Park',\n",
       "    'icon': {'prefix': 'https://ss3.4sqi.net/img/categories_v2/parks_outdoors/park_',\n",
       "     'suffix': '.png'},\n",
       "    'primary': True}],\n",
       "  'photos': {'count': 0, 'groups': []}},\n",
       " 'referralId': 'e-0-4a6757aaf964a52037c91fe3-0'}"
      ]
     },
     "execution_count": 34,
     "metadata": {},
     "output_type": "execute_result"
    }
   ],
   "source": [
    "items = results['response']['groups'][0]['items']\n",
    "items[0]"
   ]
  },
  {
   "cell_type": "markdown",
   "metadata": {
    "button": false,
    "deletable": true,
    "new_sheet": false,
    "run_control": {
     "read_only": false
    }
   },
   "source": [
    "#### Process JSON and convert it to a clean dataframe"
   ]
  },
  {
   "cell_type": "code",
   "execution_count": 65,
   "metadata": {
    "button": false,
    "collapsed": false,
    "deletable": true,
    "jupyter": {
     "outputs_hidden": false
    },
    "new_sheet": false,
    "run_control": {
     "read_only": false
    }
   },
   "outputs": [
    {
     "data": {
      "text/html": [
       "<div>\n",
       "<style scoped>\n",
       "    .dataframe tbody tr th:only-of-type {\n",
       "        vertical-align: middle;\n",
       "    }\n",
       "\n",
       "    .dataframe tbody tr th {\n",
       "        vertical-align: top;\n",
       "    }\n",
       "\n",
       "    .dataframe thead th {\n",
       "        text-align: right;\n",
       "    }\n",
       "</style>\n",
       "<table border=\"1\" class=\"dataframe\">\n",
       "  <thead>\n",
       "    <tr style=\"text-align: right;\">\n",
       "      <th></th>\n",
       "      <th>name</th>\n",
       "      <th>categories</th>\n",
       "      <th>address</th>\n",
       "      <th>crossStreet</th>\n",
       "      <th>lat</th>\n",
       "      <th>lng</th>\n",
       "      <th>labeledLatLngs</th>\n",
       "      <th>distance</th>\n",
       "      <th>postalCode</th>\n",
       "      <th>cc</th>\n",
       "      <th>city</th>\n",
       "      <th>state</th>\n",
       "      <th>country</th>\n",
       "      <th>formattedAddress</th>\n",
       "      <th>neighborhood</th>\n",
       "      <th>id</th>\n",
       "    </tr>\n",
       "  </thead>\n",
       "  <tbody>\n",
       "    <tr>\n",
       "      <th>0</th>\n",
       "      <td>Teardrop Park</td>\n",
       "      <td>Park</td>\n",
       "      <td>Warren St</td>\n",
       "      <td>btwn River Terrace &amp; North End Ave</td>\n",
       "      <td>40.716843</td>\n",
       "      <td>-74.015576</td>\n",
       "      <td>[{'label': 'display', 'lat': 40.716843120089855, 'lng': -74.01557592134671}]</td>\n",
       "      <td>188</td>\n",
       "      <td>10005</td>\n",
       "      <td>US</td>\n",
       "      <td>New York</td>\n",
       "      <td>NY</td>\n",
       "      <td>United States</td>\n",
       "      <td>[Warren St (btwn River Terrace &amp; North End Ave), New York, NY 10005, United States]</td>\n",
       "      <td>NaN</td>\n",
       "      <td>4a6757aaf964a52037c91fe3</td>\n",
       "    </tr>\n",
       "    <tr>\n",
       "      <th>1</th>\n",
       "      <td>Asphalt Green Battery Park City</td>\n",
       "      <td>Athletics &amp; Sports</td>\n",
       "      <td>212 N End Ave</td>\n",
       "      <td>Murray Street</td>\n",
       "      <td>40.715924</td>\n",
       "      <td>-74.014673</td>\n",
       "      <td>[{'label': 'display', 'lat': 40.715923644223366, 'lng': -74.01467345576101}]</td>\n",
       "      <td>119</td>\n",
       "      <td>10282</td>\n",
       "      <td>US</td>\n",
       "      <td>New York</td>\n",
       "      <td>NY</td>\n",
       "      <td>United States</td>\n",
       "      <td>[212 N End Ave (Murray Street), New York, NY 10282, United States]</td>\n",
       "      <td>NaN</td>\n",
       "      <td>51bcd723498eecb51dd996bc</td>\n",
       "    </tr>\n",
       "    <tr>\n",
       "      <th>2</th>\n",
       "      <td>Irish Hunger Memorial</td>\n",
       "      <td>Monument / Landmark</td>\n",
       "      <td>Vesey St &amp; North End Ave</td>\n",
       "      <td>NaN</td>\n",
       "      <td>40.715139</td>\n",
       "      <td>-74.016557</td>\n",
       "      <td>[{'label': 'display', 'lat': 40.71513873128946, 'lng': -74.01655655956712}]</td>\n",
       "      <td>75</td>\n",
       "      <td>10282</td>\n",
       "      <td>US</td>\n",
       "      <td>New York</td>\n",
       "      <td>NY</td>\n",
       "      <td>United States</td>\n",
       "      <td>[Vesey St &amp; North End Ave, New York, NY 10282, United States]</td>\n",
       "      <td>Battery Park City</td>\n",
       "      <td>4a397f7ef964a520839f1fe3</td>\n",
       "    </tr>\n",
       "    <tr>\n",
       "      <th>3</th>\n",
       "      <td>Shake Shack</td>\n",
       "      <td>Burger Joint</td>\n",
       "      <td>215 Murray St</td>\n",
       "      <td>btwn West St &amp; North End Ave</td>\n",
       "      <td>40.715326</td>\n",
       "      <td>-74.014750</td>\n",
       "      <td>[{'label': 'display', 'lat': 40.71532572032048, 'lng': -74.01475032559945}, {'label': 'entrance', 'lat': 40.715342, 'lng': -74.014851}]</td>\n",
       "      <td>79</td>\n",
       "      <td>10282</td>\n",
       "      <td>US</td>\n",
       "      <td>New York</td>\n",
       "      <td>NY</td>\n",
       "      <td>United States</td>\n",
       "      <td>[215 Murray St (btwn West St &amp; North End Ave), New York, NY 10282, United States]</td>\n",
       "      <td>NaN</td>\n",
       "      <td>4dda977ad22d38ef4332c419</td>\n",
       "    </tr>\n",
       "    <tr>\n",
       "      <th>4</th>\n",
       "      <td>Waterfront Plaza, Brookfield Place</td>\n",
       "      <td>Plaza</td>\n",
       "      <td>230 Vesey Street</td>\n",
       "      <td>NaN</td>\n",
       "      <td>40.713241</td>\n",
       "      <td>-74.016241</td>\n",
       "      <td>[{'label': 'display', 'lat': 40.71324098127375, 'lng': -74.01624118660538}]</td>\n",
       "      <td>217</td>\n",
       "      <td>10281</td>\n",
       "      <td>US</td>\n",
       "      <td>New York</td>\n",
       "      <td>NY</td>\n",
       "      <td>United States</td>\n",
       "      <td>[230 Vesey Street, New York, NY 10281, United States]</td>\n",
       "      <td>NaN</td>\n",
       "      <td>4a0b04dcf964a520ba741fe3</td>\n",
       "    </tr>\n",
       "    <tr>\n",
       "      <th>5</th>\n",
       "      <td>Nelson A. Rockefeller Park</td>\n",
       "      <td>Park</td>\n",
       "      <td>North end of Battery Park City &amp; West of River Terrace</td>\n",
       "      <td>at Warren  St</td>\n",
       "      <td>40.717095</td>\n",
       "      <td>-74.016716</td>\n",
       "      <td>[{'label': 'display', 'lat': 40.717094779422354, 'lng': -74.01671648025513}]</td>\n",
       "      <td>234</td>\n",
       "      <td>10280</td>\n",
       "      <td>US</td>\n",
       "      <td>New York</td>\n",
       "      <td>NY</td>\n",
       "      <td>United States</td>\n",
       "      <td>[North end of Battery Park City &amp; West of River Terrace (at Warren  St), New York, NY 10280, United States]</td>\n",
       "      <td>NaN</td>\n",
       "      <td>4b929790f964a5209a0734e3</td>\n",
       "    </tr>\n",
       "    <tr>\n",
       "      <th>6</th>\n",
       "      <td>Brookfield Place (BFPL)</td>\n",
       "      <td>Shopping Mall</td>\n",
       "      <td>230 Vesey St</td>\n",
       "      <td>at West St</td>\n",
       "      <td>40.713240</td>\n",
       "      <td>-74.015193</td>\n",
       "      <td>[{'label': 'display', 'lat': 40.71324018931094, 'lng': -74.01519298553465}]</td>\n",
       "      <td>215</td>\n",
       "      <td>10281</td>\n",
       "      <td>US</td>\n",
       "      <td>New York</td>\n",
       "      <td>NY</td>\n",
       "      <td>United States</td>\n",
       "      <td>[230 Vesey St (at West St), New York, NY 10281, United States]</td>\n",
       "      <td>NaN</td>\n",
       "      <td>4a6fa0abf964a520a4d61fe3</td>\n",
       "    </tr>\n",
       "    <tr>\n",
       "      <th>7</th>\n",
       "      <td>North End Ave Dog Run</td>\n",
       "      <td>Dog Run</td>\n",
       "      <td>North End Ave</td>\n",
       "      <td>Warren St</td>\n",
       "      <td>40.716876</td>\n",
       "      <td>-74.016149</td>\n",
       "      <td>[{'label': 'display', 'lat': 40.71687589247016, 'lng': -74.01614906976579}]</td>\n",
       "      <td>196</td>\n",
       "      <td>10282</td>\n",
       "      <td>US</td>\n",
       "      <td>New York</td>\n",
       "      <td>NY</td>\n",
       "      <td>United States</td>\n",
       "      <td>[North End Ave (Warren St), New York, NY 10282, United States]</td>\n",
       "      <td>NaN</td>\n",
       "      <td>4bedbb23e24d20a116e77114</td>\n",
       "    </tr>\n",
       "    <tr>\n",
       "      <th>8</th>\n",
       "      <td>Regal Battery Park</td>\n",
       "      <td>Movie Theater</td>\n",
       "      <td>102 North End Ave.</td>\n",
       "      <td>NaN</td>\n",
       "      <td>40.715004</td>\n",
       "      <td>-74.014935</td>\n",
       "      <td>[{'label': 'display', 'lat': 40.71500399534887, 'lng': -74.01493484218707}]</td>\n",
       "      <td>63</td>\n",
       "      <td>10282</td>\n",
       "      <td>US</td>\n",
       "      <td>New York</td>\n",
       "      <td>NY</td>\n",
       "      <td>United States</td>\n",
       "      <td>[102 North End Ave., New York, NY 10282, United States]</td>\n",
       "      <td>NaN</td>\n",
       "      <td>49e7ce15f964a5201d651fe3</td>\n",
       "    </tr>\n",
       "    <tr>\n",
       "      <th>9</th>\n",
       "      <td>Conrad</td>\n",
       "      <td>Hotel</td>\n",
       "      <td>102 N End Ave</td>\n",
       "      <td>NaN</td>\n",
       "      <td>40.715035</td>\n",
       "      <td>-74.015840</td>\n",
       "      <td>[{'label': 'display', 'lat': 40.7150355, 'lng': -74.0158397}]</td>\n",
       "      <td>19</td>\n",
       "      <td>10282</td>\n",
       "      <td>US</td>\n",
       "      <td>New York</td>\n",
       "      <td>NY</td>\n",
       "      <td>United States</td>\n",
       "      <td>[102 N End Ave, New York, NY 10282, United States]</td>\n",
       "      <td>Battery Park City</td>\n",
       "      <td>4f22ca77e4b0ed3396a83a05</td>\n",
       "    </tr>\n",
       "  </tbody>\n",
       "</table>\n",
       "</div>"
      ],
      "text/plain": [
       "                                 name           categories  \\\n",
       "0                       Teardrop Park                 Park   \n",
       "1     Asphalt Green Battery Park City   Athletics & Sports   \n",
       "2               Irish Hunger Memorial  Monument / Landmark   \n",
       "3                         Shake Shack         Burger Joint   \n",
       "4  Waterfront Plaza, Brookfield Place                Plaza   \n",
       "5          Nelson A. Rockefeller Park                 Park   \n",
       "6             Brookfield Place (BFPL)        Shopping Mall   \n",
       "7               North End Ave Dog Run              Dog Run   \n",
       "8                  Regal Battery Park        Movie Theater   \n",
       "9                              Conrad                Hotel   \n",
       "\n",
       "                                                  address  \\\n",
       "0                                               Warren St   \n",
       "1                                           212 N End Ave   \n",
       "2                                Vesey St & North End Ave   \n",
       "3                                           215 Murray St   \n",
       "4                                        230 Vesey Street   \n",
       "5  North end of Battery Park City & West of River Terrace   \n",
       "6                                            230 Vesey St   \n",
       "7                                           North End Ave   \n",
       "8                                      102 North End Ave.   \n",
       "9                                           102 N End Ave   \n",
       "\n",
       "                          crossStreet        lat        lng  \\\n",
       "0  btwn River Terrace & North End Ave  40.716843 -74.015576   \n",
       "1                       Murray Street  40.715924 -74.014673   \n",
       "2                                 NaN  40.715139 -74.016557   \n",
       "3        btwn West St & North End Ave  40.715326 -74.014750   \n",
       "4                                 NaN  40.713241 -74.016241   \n",
       "5                       at Warren  St  40.717095 -74.016716   \n",
       "6                          at West St  40.713240 -74.015193   \n",
       "7                           Warren St  40.716876 -74.016149   \n",
       "8                                 NaN  40.715004 -74.014935   \n",
       "9                                 NaN  40.715035 -74.015840   \n",
       "\n",
       "                                                                                                                            labeledLatLngs  \\\n",
       "0                                                             [{'label': 'display', 'lat': 40.716843120089855, 'lng': -74.01557592134671}]   \n",
       "1                                                             [{'label': 'display', 'lat': 40.715923644223366, 'lng': -74.01467345576101}]   \n",
       "2                                                              [{'label': 'display', 'lat': 40.71513873128946, 'lng': -74.01655655956712}]   \n",
       "3  [{'label': 'display', 'lat': 40.71532572032048, 'lng': -74.01475032559945}, {'label': 'entrance', 'lat': 40.715342, 'lng': -74.014851}]   \n",
       "4                                                              [{'label': 'display', 'lat': 40.71324098127375, 'lng': -74.01624118660538}]   \n",
       "5                                                             [{'label': 'display', 'lat': 40.717094779422354, 'lng': -74.01671648025513}]   \n",
       "6                                                              [{'label': 'display', 'lat': 40.71324018931094, 'lng': -74.01519298553465}]   \n",
       "7                                                              [{'label': 'display', 'lat': 40.71687589247016, 'lng': -74.01614906976579}]   \n",
       "8                                                              [{'label': 'display', 'lat': 40.71500399534887, 'lng': -74.01493484218707}]   \n",
       "9                                                                            [{'label': 'display', 'lat': 40.7150355, 'lng': -74.0158397}]   \n",
       "\n",
       "   distance postalCode  cc      city state        country  \\\n",
       "0       188      10005  US  New York    NY  United States   \n",
       "1       119      10282  US  New York    NY  United States   \n",
       "2        75      10282  US  New York    NY  United States   \n",
       "3        79      10282  US  New York    NY  United States   \n",
       "4       217      10281  US  New York    NY  United States   \n",
       "5       234      10280  US  New York    NY  United States   \n",
       "6       215      10281  US  New York    NY  United States   \n",
       "7       196      10282  US  New York    NY  United States   \n",
       "8        63      10282  US  New York    NY  United States   \n",
       "9        19      10282  US  New York    NY  United States   \n",
       "\n",
       "                                                                                              formattedAddress  \\\n",
       "0                          [Warren St (btwn River Terrace & North End Ave), New York, NY 10005, United States]   \n",
       "1                                           [212 N End Ave (Murray Street), New York, NY 10282, United States]   \n",
       "2                                                [Vesey St & North End Ave, New York, NY 10282, United States]   \n",
       "3                            [215 Murray St (btwn West St & North End Ave), New York, NY 10282, United States]   \n",
       "4                                                        [230 Vesey Street, New York, NY 10281, United States]   \n",
       "5  [North end of Battery Park City & West of River Terrace (at Warren  St), New York, NY 10280, United States]   \n",
       "6                                               [230 Vesey St (at West St), New York, NY 10281, United States]   \n",
       "7                                               [North End Ave (Warren St), New York, NY 10282, United States]   \n",
       "8                                                      [102 North End Ave., New York, NY 10282, United States]   \n",
       "9                                                           [102 N End Ave, New York, NY 10282, United States]   \n",
       "\n",
       "        neighborhood                        id  \n",
       "0                NaN  4a6757aaf964a52037c91fe3  \n",
       "1                NaN  51bcd723498eecb51dd996bc  \n",
       "2  Battery Park City  4a397f7ef964a520839f1fe3  \n",
       "3                NaN  4dda977ad22d38ef4332c419  \n",
       "4                NaN  4a0b04dcf964a520ba741fe3  \n",
       "5                NaN  4b929790f964a5209a0734e3  \n",
       "6                NaN  4a6fa0abf964a520a4d61fe3  \n",
       "7                NaN  4bedbb23e24d20a116e77114  \n",
       "8                NaN  49e7ce15f964a5201d651fe3  \n",
       "9  Battery Park City  4f22ca77e4b0ed3396a83a05  "
      ]
     },
     "execution_count": 65,
     "metadata": {},
     "output_type": "execute_result"
    }
   ],
   "source": [
    "dataframe = pd.json_normalize(items) # flatten JSON\n",
    "\n",
    "# filter columns\n",
    "filtered_columns = ['venue.name', 'venue.categories'] + [col for col in dataframe.columns if col.startswith('venue.location.')] + ['venue.id']\n",
    "dataframe_filtered = dataframe.loc[:, filtered_columns]\n",
    "\n",
    "# filter the category for each row\n",
    "dataframe_filtered['venue.categories'] = dataframe_filtered.apply(get_category_type, axis=1)\n",
    "\n",
    "# clean columns\n",
    "dataframe_filtered.columns = [col.split('.')[-1] for col in dataframe_filtered.columns]\n",
    "\n",
    "dataframe_filtered.head(10)"
   ]
  },
  {
   "cell_type": "markdown",
   "metadata": {
    "button": false,
    "deletable": true,
    "new_sheet": false,
    "run_control": {
     "read_only": false
    }
   },
   "source": [
    "#### Let's visualize these items on the map around our location"
   ]
  },
  {
   "cell_type": "code",
   "execution_count": 36,
   "metadata": {
    "button": false,
    "collapsed": false,
    "deletable": true,
    "jupyter": {
     "outputs_hidden": false
    },
    "new_sheet": false,
    "run_control": {
     "read_only": false
    }
   },
   "outputs": [
    {
     "data": {
      "text/html": [
       "<div style=\"width:100%;\"><div style=\"position:relative;width:100%;height:0;padding-bottom:60%;\"><iframe src=\"about:blank\" style=\"position:absolute;width:100%;height:100%;left:0;top:0;border:none !important;\" data-html=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 onload=\"this.contentDocument.open();this.contentDocument.write(atob(this.getAttribute('data-html')));this.contentDocument.close();\" allowfullscreen webkitallowfullscreen mozallowfullscreen></iframe></div></div>"
      ],
      "text/plain": [
       "<folium.folium.Map at 0x17005dbd388>"
      ]
     },
     "execution_count": 36,
     "metadata": {},
     "output_type": "execute_result"
    }
   ],
   "source": [
    "venues_map = folium.Map(location=[latitude, longitude], zoom_start=15) # generate map centred around Ecco\n",
    "\n",
    "\n",
    "# add Ecco as a red circle mark\n",
    "folium.CircleMarker(\n",
    "    [latitude, longitude],\n",
    "    radius=10,\n",
    "    popup='Ecco',\n",
    "    fill=True,\n",
    "    color='red',\n",
    "    fill_color='red',\n",
    "    fill_opacity=0.6\n",
    "    ).add_to(venues_map)\n",
    "\n",
    "\n",
    "# add popular spots to the map as blue circle markers\n",
    "for lat, lng, label in zip(dataframe_filtered.lat, dataframe_filtered.lng, dataframe_filtered.categories):\n",
    "    folium.CircleMarker(\n",
    "        [lat, lng],\n",
    "        radius=5,\n",
    "        popup=label,\n",
    "        fill=True,\n",
    "        color='blue',\n",
    "        fill_color='blue',\n",
    "        fill_opacity=0.6\n",
    "        ).add_to(venues_map)\n",
    "\n",
    "# display map\n",
    "venues_map"
   ]
  },
  {
   "cell_type": "markdown",
   "metadata": {
    "button": false,
    "deletable": true,
    "new_sheet": false,
    "run_control": {
     "read_only": false
    }
   },
   "source": [
    "   "
   ]
  },
  {
   "cell_type": "markdown",
   "metadata": {
    "button": false,
    "deletable": true,
    "new_sheet": false,
    "run_control": {
     "read_only": false
    }
   },
   "source": [
    "<a id=\"item5\"></a>"
   ]
  },
  {
   "cell_type": "markdown",
   "metadata": {
    "button": false,
    "deletable": true,
    "new_sheet": false,
    "run_control": {
     "read_only": false
    }
   },
   "source": [
    "## 5. Explore Trending Venues\n",
    "> `https://api.foursquare.com/v2/venues/`**trending**`?client_id=`**CLIENT_ID**`&client_secret=`**CLIENT_SECRET**`&ll=`**LATITUDE**`,`**LONGITUDE**`&v=`**VERSION**"
   ]
  },
  {
   "cell_type": "markdown",
   "metadata": {
    "button": false,
    "deletable": true,
    "new_sheet": false,
    "run_control": {
     "read_only": false
    }
   },
   "source": [
    "#### Now, instead of simply exploring the area around Ecco, you are interested in knowing the venues that are trending at the time you are done with your lunch, meaning the places with the highest foot traffic. So let's do that and get the trending venues around Ecco."
   ]
  },
  {
   "cell_type": "code",
   "execution_count": 37,
   "metadata": {
    "button": false,
    "deletable": true,
    "new_sheet": false,
    "run_control": {
     "read_only": false
    }
   },
   "outputs": [
    {
     "data": {
      "text/plain": [
       "{'meta': {'code': 200, 'requestId': '5ede2ab1c94979001b49a944'},\n",
       " 'response': {'venues': []}}"
      ]
     },
     "execution_count": 37,
     "metadata": {},
     "output_type": "execute_result"
    }
   ],
   "source": [
    "# define URL\n",
    "url = 'https://api.foursquare.com/v2/venues/trending?client_id={}&client_secret={}&ll={},{}&v={}'.format(CLIENT_ID, CLIENT_SECRET, latitude, longitude, VERSION)\n",
    "\n",
    "# send GET request and get trending venues\n",
    "results = requests.get(url).json()\n",
    "results"
   ]
  },
  {
   "cell_type": "markdown",
   "metadata": {
    "button": false,
    "deletable": true,
    "new_sheet": false,
    "run_control": {
     "read_only": false
    }
   },
   "source": [
    "### Check if any venues are trending at this time"
   ]
  },
  {
   "cell_type": "code",
   "execution_count": 38,
   "metadata": {
    "button": false,
    "deletable": true,
    "new_sheet": false,
    "run_control": {
     "read_only": false
    }
   },
   "outputs": [],
   "source": [
    "if len(results['response']['venues']) == 0:\n",
    "    trending_venues_df = 'No trending venues are available at the moment!'\n",
    "    \n",
    "else:\n",
    "    trending_venues = results['response']['venues']\n",
    "    trending_venues_df = json_normalize(trending_venues)\n",
    "\n",
    "    # filter columns\n",
    "    columns_filtered = ['name', 'categories'] + ['location.distance', 'location.city', 'location.postalCode', 'location.state', 'location.country', 'location.lat', 'location.lng']\n",
    "    trending_venues_df = trending_venues_df.loc[:, columns_filtered]\n",
    "\n",
    "    # filter the category for each row\n",
    "    trending_venues_df['categories'] = trending_venues_df.apply(get_category_type, axis=1)"
   ]
  },
  {
   "cell_type": "code",
   "execution_count": 39,
   "metadata": {
    "button": false,
    "collapsed": false,
    "deletable": true,
    "jupyter": {
     "outputs_hidden": false
    },
    "new_sheet": false,
    "run_control": {
     "read_only": false
    }
   },
   "outputs": [
    {
     "data": {
      "text/plain": [
       "'No trending venues are available at the moment!'"
      ]
     },
     "execution_count": 39,
     "metadata": {},
     "output_type": "execute_result"
    }
   ],
   "source": [
    "# display trending venues\n",
    "trending_venues_df"
   ]
  },
  {
   "cell_type": "markdown",
   "metadata": {
    "button": false,
    "deletable": true,
    "new_sheet": false,
    "run_control": {
     "read_only": false
    }
   },
   "source": [
    "Now, depending on when you run the above code, you might get different venues since the venues with the highest foot traffic are fetched live. "
   ]
  },
  {
   "cell_type": "markdown",
   "metadata": {
    "button": false,
    "deletable": true,
    "new_sheet": false,
    "run_control": {
     "read_only": false
    }
   },
   "source": [
    "### Visualize trending venues"
   ]
  },
  {
   "cell_type": "code",
   "execution_count": 40,
   "metadata": {
    "button": false,
    "collapsed": false,
    "deletable": true,
    "jupyter": {
     "outputs_hidden": false
    },
    "new_sheet": false,
    "run_control": {
     "read_only": false
    }
   },
   "outputs": [],
   "source": [
    "if len(results['response']['venues']) == 0:\n",
    "    venues_map = 'Cannot generate visual as no trending venues are available at the moment!'\n",
    "\n",
    "else:\n",
    "    venues_map = folium.Map(location=[latitude, longitude], zoom_start=15) # generate map centred around Ecco\n",
    "\n",
    "\n",
    "    # add Ecco as a red circle mark\n",
    "    folium.features.CircleMarker(\n",
    "        [latitude, longitude],\n",
    "        radius=10,\n",
    "        popup='Ecco',\n",
    "        fill=True,\n",
    "        color='red',\n",
    "        fill_color='red',\n",
    "        fill_opacity=0.6\n",
    "    ).add_to(venues_map)\n",
    "\n",
    "\n",
    "    # add the trending venues as blue circle markers\n",
    "    for lat, lng, label in zip(trending_venues_df['location.lat'], trending_venues_df['location.lng'], trending_venues_df['name']):\n",
    "        folium.features.CircleMarker(\n",
    "            [lat, lng],\n",
    "            radius=5,\n",
    "            poup=label,\n",
    "            fill=True,\n",
    "            color='blue',\n",
    "            fill_color='blue',\n",
    "            fill_opacity=0.6\n",
    "        ).add_to(venues_map)"
   ]
  },
  {
   "cell_type": "code",
   "execution_count": 41,
   "metadata": {
    "button": false,
    "collapsed": false,
    "deletable": true,
    "jupyter": {
     "outputs_hidden": false
    },
    "new_sheet": false,
    "run_control": {
     "read_only": false
    }
   },
   "outputs": [
    {
     "data": {
      "text/plain": [
       "'Cannot generate visual as no trending venues are available at the moment!'"
      ]
     },
     "execution_count": 41,
     "metadata": {},
     "output_type": "execute_result"
    }
   ],
   "source": [
    "# display map\n",
    "venues_map"
   ]
  },
  {
   "cell_type": "markdown",
   "metadata": {
    "button": false,
    "deletable": true,
    "new_sheet": false,
    "run_control": {
     "read_only": false
    }
   },
   "source": [
    "<a id=\"item6\"></a>"
   ]
  },
  {
   "cell_type": "markdown",
   "metadata": {
    "button": false,
    "deletable": true,
    "new_sheet": false,
    "run_control": {
     "read_only": false
    }
   },
   "source": [
    "   "
   ]
  },
  {
   "cell_type": "markdown",
   "metadata": {
    "button": false,
    "deletable": true,
    "new_sheet": false,
    "run_control": {
     "read_only": false
    }
   },
   "source": [
    "### Thank you for completing this lab!\n",
    "\n",
    "This notebook was created by [Alex Aklson](https://www.linkedin.com/in/aklson/). I hope you found this lab interesting and educational. Feel free to contact me if you have any questions!"
   ]
  },
  {
   "cell_type": "markdown",
   "metadata": {
    "button": false,
    "deletable": true,
    "new_sheet": false,
    "run_control": {
     "read_only": false
    }
   },
   "source": [
    "This notebook is part of a course on **Coursera** called *Applied Data Science Capstone*. If you accessed this notebook outside the course, you can take this course online by clicking [here](http://cocl.us/DP0701EN_Coursera_Week2_LAB1)."
   ]
  },
  {
   "cell_type": "markdown",
   "metadata": {
    "button": false,
    "deletable": true,
    "new_sheet": false,
    "run_control": {
     "read_only": false
    }
   },
   "source": [
    "<hr>\n",
    "Copyright &copy; 2018 [Cognitive Class](https://cognitiveclass.ai/?utm_source=bducopyrightlink&utm_medium=dswb&utm_campaign=bdu). This notebook and its source code are released under the terms of the [MIT License](https://bigdatauniversity.com/mit-license/)."
   ]
  }
 ],
 "metadata": {
  "kernelspec": {
   "display_name": "Python 3",
   "language": "python",
   "name": "python3"
  },
  "language_info": {
   "codemirror_mode": {
    "name": "ipython",
    "version": 3
   },
   "file_extension": ".py",
   "mimetype": "text/x-python",
   "name": "python",
   "nbconvert_exporter": "python",
   "pygments_lexer": "ipython3",
   "version": "3.7.6"
  },
  "widgets": {
   "state": {},
   "version": "1.1.2"
  }
 },
 "nbformat": 4,
 "nbformat_minor": 4
}
