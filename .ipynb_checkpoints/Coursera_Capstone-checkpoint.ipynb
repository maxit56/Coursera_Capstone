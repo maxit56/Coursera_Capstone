{
 "cells": [
  {
   "cell_type": "markdown",
   "metadata": {},
   "source": [
    "# Competitive analysis: coffees and restaurant sector in Uruguay\n",
    "\n",
    "The research has the purpose of studying the market and making a recommendation about the opportunity to open a cafe in Montevideo. The analysis will be structured as follows:\n",
    "1. Uruguay economy overview\n",
    "2. Main cities characterization\n",
    "3. Business opportunities in Montevideo (capital city) and its neighborhood"
   ]
  },
  {
   "cell_type": "markdown",
   "metadata": {},
   "source": [
    "# Data section\n",
    "\n",
    "## Uruguay economy overview and main cities characterization\n",
    "- Doing Business: https://www.doingbusiness.org/\n",
    "- World Bank: https://www.worldbank.org/\n",
    "- Instituto Nacional de Estadisitcas (national statistics and census): https://www.ine.gub.uy/\n",
    "\n",
    "## Business opportunities in Montevideo (capital city) and its neighborhood\n",
    "- Foursquare: https://developer.foursquare.com/\n"
   ]
  },
  {
   "cell_type": "code",
   "execution_count": null,
   "metadata": {},
   "outputs": [],
   "source": []
  }
 ],
 "metadata": {
  "kernelspec": {
   "display_name": "Python 3",
   "language": "python",
   "name": "python3"
  },
  "language_info": {
   "codemirror_mode": {
    "name": "ipython",
    "version": 3
   },
   "file_extension": ".py",
   "mimetype": "text/x-python",
   "name": "python",
   "nbconvert_exporter": "python",
   "pygments_lexer": "ipython3",
   "version": "3.7.6"
  }
 },
 "nbformat": 4,
 "nbformat_minor": 4
}
